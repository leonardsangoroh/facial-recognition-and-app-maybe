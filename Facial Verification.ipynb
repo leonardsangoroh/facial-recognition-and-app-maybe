{
 "cells": [
  {
   "cell_type": "markdown",
   "id": "37ec07c7",
   "metadata": {},
   "source": [
    "# Setup"
   ]
  },
  {
   "cell_type": "markdown",
   "id": "ff33e0f9",
   "metadata": {},
   "source": [
    "## 1.1 Installing Dependencies"
   ]
  },
  {
   "cell_type": "code",
   "execution_count": 1,
   "id": "c245fad5",
   "metadata": {
    "scrolled": false
   },
   "outputs": [
    {
     "name": "stdout",
     "output_type": "stream",
     "text": [
      "Requirement already satisfied: tensorflow in /opt/anaconda3/lib/python3.9/site-packages (2.9.1)\n",
      "Requirement already satisfied: opencv-python in /opt/anaconda3/lib/python3.9/site-packages (4.5.5.64)\n",
      "Requirement already satisfied: matplotlib in /opt/anaconda3/lib/python3.9/site-packages (3.5.1)\n",
      "Requirement already satisfied: tensorflow-io-gcs-filesystem>=0.23.1 in /opt/anaconda3/lib/python3.9/site-packages (from tensorflow) (0.26.0)\n",
      "Requirement already satisfied: packaging in /opt/anaconda3/lib/python3.9/site-packages (from tensorflow) (21.3)\n",
      "Requirement already satisfied: typing-extensions>=3.6.6 in /opt/anaconda3/lib/python3.9/site-packages (from tensorflow) (4.1.1)\n",
      "Requirement already satisfied: libclang>=13.0.0 in /opt/anaconda3/lib/python3.9/site-packages (from tensorflow) (14.0.1)\n",
      "Requirement already satisfied: tensorboard<2.10,>=2.9 in /opt/anaconda3/lib/python3.9/site-packages (from tensorflow) (2.9.0)\n",
      "Requirement already satisfied: h5py>=2.9.0 in /opt/anaconda3/lib/python3.9/site-packages (from tensorflow) (3.6.0)\n",
      "Requirement already satisfied: absl-py>=1.0.0 in /opt/anaconda3/lib/python3.9/site-packages (from tensorflow) (1.1.0)\n",
      "Requirement already satisfied: six>=1.12.0 in /opt/anaconda3/lib/python3.9/site-packages (from tensorflow) (1.16.0)\n",
      "Requirement already satisfied: gast<=0.4.0,>=0.2.1 in /opt/anaconda3/lib/python3.9/site-packages (from tensorflow) (0.4.0)\n",
      "Requirement already satisfied: setuptools in /opt/anaconda3/lib/python3.9/site-packages (from tensorflow) (61.2.0)\n",
      "Requirement already satisfied: grpcio<2.0,>=1.24.3 in /opt/anaconda3/lib/python3.9/site-packages (from tensorflow) (1.42.0)\n",
      "Requirement already satisfied: keras<2.10.0,>=2.9.0rc0 in /opt/anaconda3/lib/python3.9/site-packages (from tensorflow) (2.9.0)\n",
      "Requirement already satisfied: flatbuffers<2,>=1.12 in /opt/anaconda3/lib/python3.9/site-packages (from tensorflow) (1.12)\n",
      "Requirement already satisfied: termcolor>=1.1.0 in /opt/anaconda3/lib/python3.9/site-packages (from tensorflow) (1.1.0)\n",
      "Requirement already satisfied: astunparse>=1.6.0 in /opt/anaconda3/lib/python3.9/site-packages (from tensorflow) (1.6.3)\n",
      "Requirement already satisfied: opt-einsum>=2.3.2 in /opt/anaconda3/lib/python3.9/site-packages (from tensorflow) (3.3.0)\n",
      "Requirement already satisfied: wrapt>=1.11.0 in /opt/anaconda3/lib/python3.9/site-packages (from tensorflow) (1.12.1)\n",
      "Requirement already satisfied: protobuf<3.20,>=3.9.2 in /opt/anaconda3/lib/python3.9/site-packages (from tensorflow) (3.19.1)\n",
      "Requirement already satisfied: tensorflow-estimator<2.10.0,>=2.9.0rc0 in /opt/anaconda3/lib/python3.9/site-packages (from tensorflow) (2.9.0)\n",
      "Requirement already satisfied: keras-preprocessing>=1.1.1 in /opt/anaconda3/lib/python3.9/site-packages (from tensorflow) (1.1.2)\n",
      "Requirement already satisfied: google-pasta>=0.1.1 in /opt/anaconda3/lib/python3.9/site-packages (from tensorflow) (0.2.0)\n",
      "Requirement already satisfied: numpy>=1.20 in /opt/anaconda3/lib/python3.9/site-packages (from tensorflow) (1.21.5)\n",
      "Requirement already satisfied: kiwisolver>=1.0.1 in /opt/anaconda3/lib/python3.9/site-packages (from matplotlib) (1.3.2)\n",
      "Requirement already satisfied: python-dateutil>=2.7 in /opt/anaconda3/lib/python3.9/site-packages (from matplotlib) (2.8.2)\n",
      "Requirement already satisfied: fonttools>=4.22.0 in /opt/anaconda3/lib/python3.9/site-packages (from matplotlib) (4.25.0)\n",
      "Requirement already satisfied: pyparsing>=2.2.1 in /opt/anaconda3/lib/python3.9/site-packages (from matplotlib) (3.0.4)\n",
      "Requirement already satisfied: pillow>=6.2.0 in /opt/anaconda3/lib/python3.9/site-packages (from matplotlib) (9.0.1)\n",
      "Requirement already satisfied: cycler>=0.10 in /opt/anaconda3/lib/python3.9/site-packages (from matplotlib) (0.11.0)\n",
      "Requirement already satisfied: wheel<1.0,>=0.23.0 in /opt/anaconda3/lib/python3.9/site-packages (from astunparse>=1.6.0->tensorflow) (0.37.1)\n",
      "Requirement already satisfied: tensorboard-plugin-wit>=1.6.0 in /opt/anaconda3/lib/python3.9/site-packages (from tensorboard<2.10,>=2.9->tensorflow) (1.8.1)\n",
      "Requirement already satisfied: google-auth<3,>=1.6.3 in /opt/anaconda3/lib/python3.9/site-packages (from tensorboard<2.10,>=2.9->tensorflow) (1.33.0)\n",
      "Requirement already satisfied: requests<3,>=2.21.0 in /opt/anaconda3/lib/python3.9/site-packages (from tensorboard<2.10,>=2.9->tensorflow) (2.27.1)\n",
      "Requirement already satisfied: tensorboard-data-server<0.7.0,>=0.6.0 in /opt/anaconda3/lib/python3.9/site-packages (from tensorboard<2.10,>=2.9->tensorflow) (0.6.1)\n",
      "Requirement already satisfied: werkzeug>=1.0.1 in /opt/anaconda3/lib/python3.9/site-packages (from tensorboard<2.10,>=2.9->tensorflow) (2.0.3)\n",
      "Requirement already satisfied: google-auth-oauthlib<0.5,>=0.4.1 in /opt/anaconda3/lib/python3.9/site-packages (from tensorboard<2.10,>=2.9->tensorflow) (0.4.6)\n",
      "Requirement already satisfied: markdown>=2.6.8 in /opt/anaconda3/lib/python3.9/site-packages (from tensorboard<2.10,>=2.9->tensorflow) (3.3.4)\n",
      "Requirement already satisfied: cachetools<5.0,>=2.0.0 in /opt/anaconda3/lib/python3.9/site-packages (from google-auth<3,>=1.6.3->tensorboard<2.10,>=2.9->tensorflow) (4.2.2)\n",
      "Requirement already satisfied: pyasn1-modules>=0.2.1 in /opt/anaconda3/lib/python3.9/site-packages (from google-auth<3,>=1.6.3->tensorboard<2.10,>=2.9->tensorflow) (0.2.8)\n",
      "Requirement already satisfied: rsa<5,>=3.1.4 in /opt/anaconda3/lib/python3.9/site-packages (from google-auth<3,>=1.6.3->tensorboard<2.10,>=2.9->tensorflow) (4.7.2)\n",
      "Requirement already satisfied: requests-oauthlib>=0.7.0 in /opt/anaconda3/lib/python3.9/site-packages (from google-auth-oauthlib<0.5,>=0.4.1->tensorboard<2.10,>=2.9->tensorflow) (1.3.1)\n",
      "Requirement already satisfied: pyasn1<0.5.0,>=0.4.6 in /opt/anaconda3/lib/python3.9/site-packages (from pyasn1-modules>=0.2.1->google-auth<3,>=1.6.3->tensorboard<2.10,>=2.9->tensorflow) (0.4.8)\n",
      "Requirement already satisfied: idna<4,>=2.5 in /opt/anaconda3/lib/python3.9/site-packages (from requests<3,>=2.21.0->tensorboard<2.10,>=2.9->tensorflow) (3.3)\n",
      "Requirement already satisfied: certifi>=2017.4.17 in /opt/anaconda3/lib/python3.9/site-packages (from requests<3,>=2.21.0->tensorboard<2.10,>=2.9->tensorflow) (2021.10.8)\n",
      "Requirement already satisfied: urllib3<1.27,>=1.21.1 in /opt/anaconda3/lib/python3.9/site-packages (from requests<3,>=2.21.0->tensorboard<2.10,>=2.9->tensorflow) (1.26.9)\n",
      "Requirement already satisfied: charset-normalizer~=2.0.0 in /opt/anaconda3/lib/python3.9/site-packages (from requests<3,>=2.21.0->tensorboard<2.10,>=2.9->tensorflow) (2.0.4)\n",
      "Requirement already satisfied: oauthlib>=3.0.0 in /opt/anaconda3/lib/python3.9/site-packages (from requests-oauthlib>=0.7.0->google-auth-oauthlib<0.5,>=0.4.1->tensorboard<2.10,>=2.9->tensorflow) (3.2.0)\n"
     ]
    }
   ],
   "source": [
    "!pip3 install tensorflow opencv-python matplotlib"
   ]
  },
  {
   "cell_type": "code",
   "execution_count": 2,
   "id": "3ead6117",
   "metadata": {},
   "outputs": [
    {
     "name": "stdout",
     "output_type": "stream",
     "text": [
      "\u001b[31mERROR: Could not find a version that satisfies the requirement tensorflow-gpu (from versions: none)\u001b[0m\r\n",
      "\u001b[31mERROR: No matching distribution found for tensorflow-gpu\u001b[0m\r\n"
     ]
    }
   ],
   "source": [
    "# tensorflow gpu installation failure\n",
    "\n",
    "!pip3 install tensorflow-gpu"
   ]
  },
  {
   "cell_type": "markdown",
   "id": "74bc48ef",
   "metadata": {},
   "source": [
    "## 1.2 Importing Dependencies"
   ]
  },
  {
   "cell_type": "code",
   "execution_count": 2,
   "id": "fcdd5bb9",
   "metadata": {},
   "outputs": [],
   "source": [
    "#Importing standard dependenicies\n",
    "\n",
    "import numpy as np\n",
    "\n",
    "#importing open cv\n",
    "import cv2\n",
    "\n",
    "#The OS module provides functions for interacting with the OS\n",
    "import os\n",
    "\n",
    "# For generating random data\n",
    "import random\n",
    "\n",
    "# For effectively visualizing an image (plt.imshow())\n",
    "from matplotlib import pyplot as plt"
   ]
  },
  {
   "cell_type": "markdown",
   "id": "8fa14898",
   "metadata": {},
   "source": [
    "## 1.3 Import GPU Dependencies"
   ]
  },
  {
   "cell_type": "code",
   "execution_count": 3,
   "id": "bfcdbb7a",
   "metadata": {},
   "outputs": [],
   "source": [
    "#Importing TensorFlow dependenicies - Functional API\n",
    "\n",
    "from tensorflow.keras.models import Model\n",
    "from tensorflow.keras.layers import Layer, Conv2D, Dense, MaxPooling2D, Input, Flatten\n",
    "import tensorflow as tf"
   ]
  },
  {
   "cell_type": "markdown",
   "id": "7aac6925",
   "metadata": {},
   "source": [
    "## 1.4 Creating folder structures"
   ]
  },
  {
   "cell_type": "code",
   "execution_count": 4,
   "id": "d113fa67",
   "metadata": {},
   "outputs": [],
   "source": [
    "#Setting up paths\n",
    "POS_PATH = os.path.join('data','positive')\n",
    "NEG_PATH = os.path.join('data','negative')\n",
    "ANC_PATH = os.path.join('data','anchor')"
   ]
  },
  {
   "cell_type": "code",
   "execution_count": null,
   "id": "3a4a365f",
   "metadata": {},
   "outputs": [],
   "source": [
    "#making the directories\n",
    "os.makedirs(POS_PATH)\n",
    "os.makedirs(NEG_PATH)\n",
    "os.makedirs(ANC_PATH)"
   ]
  },
  {
   "cell_type": "markdown",
   "id": "361161c6",
   "metadata": {},
   "source": [
    "# Collecting +ve images and anchor images"
   ]
  },
  {
   "cell_type": "code",
   "execution_count": 5,
   "id": "94eb77b5",
   "metadata": {},
   "outputs": [],
   "source": [
    "# Collecting images that will enable us train our model"
   ]
  },
  {
   "cell_type": "markdown",
   "id": "ce6e1590",
   "metadata": {},
   "source": [
    "## 2.1 Collecting -ve images from LFW"
   ]
  },
  {
   "cell_type": "markdown",
   "id": "a5e2daaf",
   "metadata": {},
   "source": [
    "## Failed\n",
    "\n",
    "#uncompress LFW dataset\n",
    "!tar -xf lfw.tgz"
   ]
  },
  {
   "cell_type": "code",
   "execution_count": null,
   "id": "f0f056bf",
   "metadata": {},
   "outputs": [],
   "source": [
    "#move LFW images to 'data/negative'\n",
    "\n",
    "for directory in os.listdir('lfw'):\n",
    "    for file in os.listdir(os.path.join('lfw', directory)):\n",
    "        EX_PATH = os.path.join('lfw', directory, file)\n",
    "        NEW_PATH = os.path.join(NEG_PATH, file)\n",
    "        \n",
    "        os.replace(EX_PATH, NEW_PATH)"
   ]
  },
  {
   "cell_type": "code",
   "execution_count": 6,
   "id": "f26b5087",
   "metadata": {},
   "outputs": [
    {
     "data": {
      "text/plain": [
       "['positive', '.DS_Store', 'negative', 'anchor']"
      ]
     },
     "execution_count": 6,
     "metadata": {},
     "output_type": "execute_result"
    }
   ],
   "source": [
    "#testing\n",
    "os.listdir('data')"
   ]
  },
  {
   "cell_type": "markdown",
   "id": "775d7b93",
   "metadata": {},
   "source": [
    "## 2.2 Collect +ve & anchor classes"
   ]
  },
  {
   "cell_type": "code",
   "execution_count": 7,
   "id": "56a400a6",
   "metadata": {},
   "outputs": [],
   "source": [
    "# Image size should be 250px by 250 px to sync with the LFW dataset\n",
    "#Place the webcam approximately 0.9 metres from the student while\n",
    "# taking the images"
   ]
  },
  {
   "cell_type": "code",
   "execution_count": 8,
   "id": "1d543bb9",
   "metadata": {},
   "outputs": [],
   "source": [
    "#Importing UUID library to allocate unique names to each of the images\n",
    "# UUID - Universally Unique Identifier\n",
    "import uuid"
   ]
  },
  {
   "cell_type": "code",
   "execution_count": 9,
   "id": "27be0793",
   "metadata": {},
   "outputs": [],
   "source": [
    "#Establish connection to my webcam\n",
    "cap = cv2.VideoCapture(0)\n",
    "\n",
    "while cap.isOpened():\n",
    "    #cap.read is for reading the capture\n",
    "    ret, frame = cap.read()\n",
    "    \n",
    "    #reduce capture frame to 250px X 250px\n",
    "    frame = frame[200:200+250, 550:550+250, :]\n",
    "    \n",
    "    #Collecting anchors\n",
    "    if cv2.waitKey(1) & 0XFF == ord('a'):\n",
    "        \n",
    "        #create a unique name\n",
    "        imgname = os.path.join(ANC_PATH, '{}.jpg'.format(uuid.uuid1()))\n",
    "        #write out anchor image\n",
    "        cv2.imwrite(imgname,frame)\n",
    "        \n",
    "    #Collecting positives\n",
    "    if cv2.waitKey(1) & 0XFF == ord('p'):\n",
    "         #create a unique name\n",
    "        imgname = os.path.join(POS_PATH, '{}.jpg'.format(uuid.uuid1()))\n",
    "        #write out anchor image\n",
    "        cv2.imwrite(imgname,frame)\n",
    "        \n",
    "    #render image back to screen\n",
    "    cv2.imshow('Strathmore University Secure Access System', frame)\n",
    "    \n",
    "    #Breaking procedurally\n",
    "    if cv2.waitKey(1) & 0XFF == ord('q'):\n",
    "        break\n",
    "#Release the webcam\n",
    "cap.release()\n",
    "\n",
    "#close the image show frame\n",
    "cv2.destroyAllWindows()"
   ]
  },
  {
   "cell_type": "code",
   "execution_count": 10,
   "id": "297ecd85",
   "metadata": {},
   "outputs": [
    {
     "data": {
      "text/plain": [
       "<matplotlib.image.AxesImage at 0x7fce39665a90>"
      ]
     },
     "execution_count": 10,
     "metadata": {},
     "output_type": "execute_result"
    },
    {
     "data": {
      "image/png": "[encoded data removed]",
      "text/plain": [
       "<Figure size 432x288 with 1 Axes>"
      ]
     },
     "metadata": {
      "needs_background": "light"
     },
     "output_type": "display_data"
    }
   ],
   "source": [
    "#Place the webcam approximately 0.9 metres from the student while\n",
    "# taking the images\n",
    "plt.imshow(frame)"
   ]
  },
  {
   "cell_type": "markdown",
   "id": "bff63e3c",
   "metadata": {},
   "source": [
    "# Load & Preprocess Images"
   ]
  },
  {
   "cell_type": "markdown",
   "id": "f9b8940e",
   "metadata": {},
   "source": [
    "## 3.1 Get Image Directories"
   ]
  },
  {
   "cell_type": "code",
   "execution_count": 11,
   "id": "8aa1a01d",
   "metadata": {
    "scrolled": true
   },
   "outputs": [
    {
     "name": "stderr",
     "output_type": "stream",
     "text": [
      "2022-07-06 11:50:23.246789: I tensorflow/core/platform/cpu_feature_guard.cc:193] This TensorFlow binary is optimized with oneAPI Deep Neural Network Library (oneDNN) to use the following CPU instructions in performance-critical operations:  AVX2 FMA\n",
      "To enable them in other operations, rebuild TensorFlow with the appropriate compiler flags.\n"
     ]
    }
   ],
   "source": [
    "#Grab only 300 images within a specific directory\n",
    "anchor = tf.data.Dataset.list_files(ANC_PATH+'/*.jpg').take(300)\n",
    "positive = tf.data.Dataset.list_files(POS_PATH+'/*.jpg').take(300)\n",
    "negative = tf.data.Dataset.list_files(NEG_PATH+'/*.jpg').take(300)"
   ]
  },
  {
   "cell_type": "code",
   "execution_count": 12,
   "id": "f242eb6c",
   "metadata": {},
   "outputs": [
    {
     "data": {
      "text/plain": [
       "'data/anchor/*jpg/'"
      ]
     },
     "execution_count": 12,
     "metadata": {},
     "output_type": "execute_result"
    }
   ],
   "source": [
    "ANC_PATH+'/*jpg/'"
   ]
  },
  {
   "cell_type": "code",
   "execution_count": 13,
   "id": "68d5e7b8",
   "metadata": {},
   "outputs": [],
   "source": [
    "dir_test = anchor.as_numpy_iterator()"
   ]
  },
  {
   "cell_type": "code",
   "execution_count": 14,
   "id": "fc004698",
   "metadata": {
    "scrolled": false
   },
   "outputs": [
    {
     "name": "stdout",
     "output_type": "stream",
     "text": [
      "b'data/anchor/7b2d7bfc-e637-11ec-8a2d-acde48001122.jpg'\n"
     ]
    }
   ],
   "source": [
    "print(dir_test.next())"
   ]
  },
  {
   "cell_type": "markdown",
   "id": "8b16843d",
   "metadata": {},
   "source": [
    "## 3.2 Preprocessing - Scale & Resize"
   ]
  },
  {
   "cell_type": "code",
   "execution_count": 15,
   "id": "d3528826",
   "metadata": {},
   "outputs": [],
   "source": [
    "#load image, resize, and scale it"
   ]
  },
  {
   "cell_type": "code",
   "execution_count": 16,
   "id": "bf4ed7e8",
   "metadata": {},
   "outputs": [],
   "source": [
    "#preprocess function\n",
    "def preprocess (file_path):\n",
    "    # Read in image from file path (in byte form)\n",
    "    byte_img = tf.io.read_file(file_path)\n",
    "    #load in image\n",
    "    img = tf.io.decode_jpeg(byte_img, channels=3)\n",
    "    \n",
    "    # Preprocessing steps - resizing the image to 100px X 100px X 3 channels\n",
    "    # Why 100 X 100? (it's based on the Siames model doc)\n",
    "    img = tf.image.resize(img, (100,100))\n",
    "    #Scale image to be btw 0 and 1\n",
    "    img = img/255.0\n",
    "    #return img\n",
    "    return img"
   ]
  },
  {
   "cell_type": "code",
   "execution_count": 17,
   "id": "08c06820",
   "metadata": {},
   "outputs": [],
   "source": [
    "img = preprocess('data/negative/Clare_Short_0001.jpg')"
   ]
  },
  {
   "cell_type": "code",
   "execution_count": 18,
   "id": "6014e7f0",
   "metadata": {},
   "outputs": [
    {
     "data": {
      "text/plain": [
       "0.99852943"
      ]
     },
     "execution_count": 18,
     "metadata": {},
     "output_type": "execute_result"
    }
   ],
   "source": [
    "img.numpy().max()"
   ]
  },
  {
   "cell_type": "code",
   "execution_count": 19,
   "id": "9a8c00a7",
   "metadata": {
    "scrolled": true
   },
   "outputs": [
    {
     "data": {
      "text/plain": [
       "<matplotlib.image.AxesImage at 0x7fce3ad23370>"
      ]
     },
     "execution_count": 19,
     "metadata": {},
     "output_type": "execute_result"
    },
    {
     "data": {
      "image/png": "[encoded data removed]",
      "text/plain": [
       "<Figure size 432x288 with 1 Axes>"
      ]
     },
     "metadata": {
      "needs_background": "light"
     },
     "output_type": "display_data"
    }
   ],
   "source": [
    "#display image after scaling\n",
    "plt.imshow(img)"
   ]
  },
  {
   "cell_type": "code",
   "execution_count": 20,
   "id": "2f34b7b7",
   "metadata": {
    "scrolled": false
   },
   "outputs": [
    {
     "name": "stdout",
     "output_type": "stream",
     "text": [
      "Requirement already satisfied: tensorflow_datasets in /opt/anaconda3/lib/python3.9/site-packages (4.6.0)\n",
      "Requirement already satisfied: etils[epath] in /opt/anaconda3/lib/python3.9/site-packages (from tensorflow_datasets) (0.6.0)\n",
      "Requirement already satisfied: tensorflow-metadata in /opt/anaconda3/lib/python3.9/site-packages (from tensorflow_datasets) (1.8.0)\n",
      "Requirement already satisfied: termcolor in /opt/anaconda3/lib/python3.9/site-packages (from tensorflow_datasets) (1.1.0)\n",
      "Requirement already satisfied: promise in /opt/anaconda3/lib/python3.9/site-packages (from tensorflow_datasets) (2.3)\n",
      "Requirement already satisfied: absl-py in /opt/anaconda3/lib/python3.9/site-packages (from tensorflow_datasets) (1.1.0)\n",
      "Requirement already satisfied: protobuf>=3.12.2 in /opt/anaconda3/lib/python3.9/site-packages (from tensorflow_datasets) (3.19.1)\n",
      "Requirement already satisfied: requests>=2.19.0 in /opt/anaconda3/lib/python3.9/site-packages (from tensorflow_datasets) (2.27.1)\n",
      "Requirement already satisfied: toml in /opt/anaconda3/lib/python3.9/site-packages (from tensorflow_datasets) (0.10.2)\n",
      "Requirement already satisfied: dill in /opt/anaconda3/lib/python3.9/site-packages (from tensorflow_datasets) (0.3.4)\n",
      "Requirement already satisfied: tqdm in /opt/anaconda3/lib/python3.9/site-packages (from tensorflow_datasets) (4.64.0)\n",
      "Requirement already satisfied: six in /opt/anaconda3/lib/python3.9/site-packages (from tensorflow_datasets) (1.16.0)\n",
      "Requirement already satisfied: numpy in /opt/anaconda3/lib/python3.9/site-packages (from tensorflow_datasets) (1.21.5)\n",
      "Requirement already satisfied: idna<4,>=2.5 in /opt/anaconda3/lib/python3.9/site-packages (from requests>=2.19.0->tensorflow_datasets) (3.3)\n",
      "Requirement already satisfied: certifi>=2017.4.17 in /opt/anaconda3/lib/python3.9/site-packages (from requests>=2.19.0->tensorflow_datasets) (2021.10.8)\n",
      "Requirement already satisfied: urllib3<1.27,>=1.21.1 in /opt/anaconda3/lib/python3.9/site-packages (from requests>=2.19.0->tensorflow_datasets) (1.26.9)\n",
      "Requirement already satisfied: charset-normalizer~=2.0.0 in /opt/anaconda3/lib/python3.9/site-packages (from requests>=2.19.0->tensorflow_datasets) (2.0.4)\n",
      "Requirement already satisfied: importlib_resources in /opt/anaconda3/lib/python3.9/site-packages (from etils[epath]->tensorflow_datasets) (5.7.1)\n",
      "Requirement already satisfied: zipp in /opt/anaconda3/lib/python3.9/site-packages (from etils[epath]->tensorflow_datasets) (3.7.0)\n",
      "Requirement already satisfied: typing_extensions in /opt/anaconda3/lib/python3.9/site-packages (from etils[epath]->tensorflow_datasets) (4.1.1)\n",
      "Requirement already satisfied: googleapis-common-protos<2,>=1.52.0 in /opt/anaconda3/lib/python3.9/site-packages (from tensorflow-metadata->tensorflow_datasets) (1.53.0)\n"
     ]
    }
   ],
   "source": [
    "!pip3 install tensorflow_datasets"
   ]
  },
  {
   "cell_type": "code",
   "execution_count": 21,
   "id": "a1febc48",
   "metadata": {
    "scrolled": true
   },
   "outputs": [
    {
     "name": "stdout",
     "output_type": "stream",
     "text": [
      "Requirement already satisfied: torch in /opt/anaconda3/lib/python3.9/site-packages (1.11.0)\r\n",
      "Requirement already satisfied: typing-extensions in /opt/anaconda3/lib/python3.9/site-packages (from torch) (4.1.1)\r\n"
     ]
    }
   ],
   "source": [
    "!pip install torch"
   ]
  },
  {
   "cell_type": "code",
   "execution_count": 22,
   "id": "a8be530d",
   "metadata": {
    "scrolled": false
   },
   "outputs": [
    {
     "data": {
      "text/plain": [
       "<MapDataset element_spec=TensorSpec(shape=(100, 100, 3), dtype=tf.float32, name=None)>"
      ]
     },
     "execution_count": 22,
     "metadata": {},
     "output_type": "execute_result"
    }
   ],
   "source": [
    "anchor.map(preprocess)"
   ]
  },
  {
   "cell_type": "markdown",
   "id": "eb59a9e6",
   "metadata": {},
   "source": [
    "## 3.3 Create a labelled Dataset"
   ]
  },
  {
   "cell_type": "code",
   "execution_count": 23,
   "id": "531e676b",
   "metadata": {},
   "outputs": [],
   "source": [
    "# (anchor, positive) => 1,1,1,1,1\n",
    "# (anchor, negative) => 0,0,0,0,0"
   ]
  },
  {
   "cell_type": "code",
   "execution_count": 24,
   "id": "fd52f9d4",
   "metadata": {},
   "outputs": [],
   "source": [
    "positives = tf.data.Dataset.zip((anchor, positive, tf.data.Dataset.from_tensor_slices(tf.ones(len(anchor)))))\n",
    "negatives = tf.data.Dataset.zip((anchor, negative, tf.data.Dataset.from_tensor_slices(tf.zeros(len(anchor)))))\n",
    "data = positives.concatenate(negatives)"
   ]
  },
  {
   "cell_type": "code",
   "execution_count": 25,
   "id": "564ed6ff",
   "metadata": {},
   "outputs": [],
   "source": [
    "samples = data.as_numpy_iterator()"
   ]
  },
  {
   "cell_type": "code",
   "execution_count": 26,
   "id": "de404238",
   "metadata": {},
   "outputs": [],
   "source": [
    "example = samples.next()"
   ]
  },
  {
   "cell_type": "code",
   "execution_count": 27,
   "id": "833dbf44",
   "metadata": {},
   "outputs": [
    {
     "data": {
      "text/plain": [
       "(b'data/anchor/81df37f6-e637-11ec-8a2d-acde48001122.jpg',\n",
       " b'data/positive/c0b39e54-e637-11ec-8a2d-acde48001122.jpg',\n",
       " 1.0)"
      ]
     },
     "execution_count": 27,
     "metadata": {},
     "output_type": "execute_result"
    }
   ],
   "source": [
    "example"
   ]
  },
  {
   "cell_type": "markdown",
   "id": "6427e065",
   "metadata": {},
   "source": [
    "## 3.4 Build Train & Test Partition"
   ]
  },
  {
   "cell_type": "code",
   "execution_count": 28,
   "id": "54ee900c",
   "metadata": {},
   "outputs": [],
   "source": [
    "def preprocess_twin(input_img, validation_img, label):\n",
    "    return (preprocess(input_img), preprocess(validation_img), label)"
   ]
  },
  {
   "cell_type": "code",
   "execution_count": 29,
   "id": "e7b74ece",
   "metadata": {},
   "outputs": [],
   "source": [
    "res = preprocess_twin(*example)"
   ]
  },
  {
   "cell_type": "code",
   "execution_count": 30,
   "id": "995b831e",
   "metadata": {},
   "outputs": [
    {
     "data": {
      "text/plain": [
       "<matplotlib.image.AxesImage at 0x7fce3b02cc40>"
      ]
     },
     "execution_count": 30,
     "metadata": {},
     "output_type": "execute_result"
    },
    {
     "data": {
      "image/png": "[encoded data removed]",
      "text/plain": [
       "<Figure size 432x288 with 1 Axes>"
      ]
     },
     "metadata": {
      "needs_background": "light"
     },
     "output_type": "display_data"
    }
   ],
   "source": [
    "plt.imshow(res[0])"
   ]
  },
  {
   "cell_type": "code",
   "execution_count": 31,
   "id": "2f60ce91",
   "metadata": {},
   "outputs": [
    {
     "data": {
      "text/plain": [
       "1.0"
      ]
     },
     "execution_count": 31,
     "metadata": {},
     "output_type": "execute_result"
    }
   ],
   "source": [
    "res[2]"
   ]
  },
  {
   "cell_type": "code",
   "execution_count": 32,
   "id": "3fc3bddf",
   "metadata": {},
   "outputs": [],
   "source": [
    "#build a dataloader pipeline\n",
    "\n",
    "#map\n",
    "data = data.map(preprocess_twin)\n",
    "#cache images\n",
    "data = data.cache()\n",
    "#shuffle images for approprite training\n",
    "data = data.shuffle(buffer_size=1024)"
   ]
  },
  {
   "cell_type": "code",
   "execution_count": 33,
   "id": "d47bd7a8",
   "metadata": {},
   "outputs": [],
   "source": [
    "sampless = data.as_numpy_iterator()"
   ]
  },
  {
   "cell_type": "code",
   "execution_count": 34,
   "id": "35e569b8",
   "metadata": {},
   "outputs": [
    {
     "data": {
      "text/plain": [
       "3"
      ]
     },
     "execution_count": 34,
     "metadata": {},
     "output_type": "execute_result"
    }
   ],
   "source": [
    "len(sampless.next())"
   ]
  },
  {
   "cell_type": "code",
   "execution_count": 35,
   "id": "14cf8134",
   "metadata": {},
   "outputs": [],
   "source": [
    "samp = sampless.next()"
   ]
  },
  {
   "cell_type": "code",
   "execution_count": 36,
   "id": "514c917b",
   "metadata": {},
   "outputs": [
    {
     "data": {
      "text/plain": [
       "<matplotlib.image.AxesImage at 0x7fce3b1da820>"
      ]
     },
     "execution_count": 36,
     "metadata": {},
     "output_type": "execute_result"
    },
    {
     "data": {
      "image/png": "[encoded data removed]",
      "text/plain": [
       "<Figure size 432x288 with 1 Axes>"
      ]
     },
     "metadata": {
      "needs_background": "light"
     },
     "output_type": "display_data"
    }
   ],
   "source": [
    "plt.imshow(samp[1])"
   ]
  },
  {
   "cell_type": "code",
   "execution_count": 37,
   "id": "8955d82c",
   "metadata": {},
   "outputs": [
    {
     "data": {
      "text/plain": [
       "1.0"
      ]
     },
     "execution_count": 37,
     "metadata": {},
     "output_type": "execute_result"
    }
   ],
   "source": [
    "samp[2]"
   ]
  },
  {
   "cell_type": "code",
   "execution_count": 38,
   "id": "44801c61",
   "metadata": {},
   "outputs": [],
   "source": [
    "#Training partition\n",
    "\n",
    "#take 70% of the dataset for training and round it\n",
    "train_data = data.take(round(len(data)*.7))\n",
    "#pass the data in batches of 16 units\n",
    "train_data = train_data.batch(16)\n",
    "#prefetch preprocesses the next data in order to reduce bottleneck in the model\n",
    "train_data = train_data.prefetch(8)"
   ]
  },
  {
   "cell_type": "code",
   "execution_count": 39,
   "id": "494e813a",
   "metadata": {},
   "outputs": [],
   "source": [
    "train_samples = train_data.as_numpy_iterator()"
   ]
  },
  {
   "cell_type": "code",
   "execution_count": 40,
   "id": "72ab0021",
   "metadata": {},
   "outputs": [],
   "source": [
    "train_sample = train_samples.next()"
   ]
  },
  {
   "cell_type": "code",
   "execution_count": 41,
   "id": "4382762b",
   "metadata": {},
   "outputs": [
    {
     "data": {
      "text/plain": [
       "16"
      ]
     },
     "execution_count": 41,
     "metadata": {},
     "output_type": "execute_result"
    }
   ],
   "source": [
    "len(train_sample[0])"
   ]
  },
  {
   "cell_type": "code",
   "execution_count": 42,
   "id": "6f56fec2",
   "metadata": {},
   "outputs": [],
   "source": [
    "#Testing partition\n",
    "\n",
    "test_data = data.skip(round(len(data)*.7))\n",
    "\n",
    "#grab the remaining 30% for testing purposes\n",
    "test_data = test_data.take(round(len(data)*.3))\n",
    "\n",
    "test_data = test_data.batch(16)\n",
    "test_data = test_data.prefetch(8)"
   ]
  },
  {
   "cell_type": "markdown",
   "id": "d84de2de",
   "metadata": {},
   "source": [
    "# 4. Model Engineering"
   ]
  },
  {
   "cell_type": "markdown",
   "id": "d7cc7682",
   "metadata": {},
   "source": [
    "## 4.1 Build Embedding Layer"
   ]
  },
  {
   "cell_type": "code",
   "execution_count": 43,
   "id": "84f8abd9",
   "metadata": {},
   "outputs": [],
   "source": [
    "def make_embedding():\n",
    "    #defining the input layer (with reference to the Siamese paper)\n",
    "    inp = Input(shape=(100,100,3), name='input_image')\n",
    "    \n",
    "    #FIRST BLOCK\n",
    "    #convolution layer plus Relu activation (64 units/filters/channels)\n",
    "    c1 = Conv2D(64, (10,10), activation='relu')(inp)\n",
    "    #max pooling layer\n",
    "    m1 = MaxPooling2D(64, (2,2), padding='same')(c1)\n",
    "    \n",
    "    #SECOND BLOCK\n",
    "    #(128 units with relu activation)\n",
    "    c2 = Conv2D(128, (7,7), activation='relu')(m1)\n",
    "    m2 = MaxPooling2D(64, (2,2), padding='same')(c2)\n",
    "    \n",
    "    #THIRD BLOCK\n",
    "    c3 = Conv2D(128, (4,4), activation='relu')(m2)\n",
    "    m3 = MaxPooling2D(64, (2,2), padding='same')(c3)\n",
    "    \n",
    "    #FINAL EMBEDDING BLOCK\n",
    "    c4 = Conv2D(256, (4,4), activation='relu')(m3)\n",
    "    #flatten to a single dimension\n",
    "    f1 = Flatten()(c4)\n",
    "    \n",
    "    d1 = Dense(4096, activation='sigmoid')(f1)\n",
    "    \n",
    "    return Model(inputs=[inp], outputs=[d1], name='embedding')"
   ]
  },
  {
   "cell_type": "code",
   "execution_count": 44,
   "id": "14d60a05",
   "metadata": {
    "scrolled": true
   },
   "outputs": [],
   "source": [
    "embedding = make_embedding()"
   ]
  },
  {
   "cell_type": "code",
   "execution_count": 45,
   "id": "2a49d50c",
   "metadata": {},
   "outputs": [
    {
     "name": "stdout",
     "output_type": "stream",
     "text": [
      "Model: \"embedding\"\n",
      "_________________________________________________________________\n",
      " Layer (type)                Output Shape              Param #   \n",
      "=================================================================\n",
      " input_image (InputLayer)    [(None, 100, 100, 3)]     0         \n",
      "                                                                 \n",
      " conv2d (Conv2D)             (None, 91, 91, 64)        19264     \n",
      "                                                                 \n",
      " max_pooling2d (MaxPooling2D  (None, 46, 46, 64)       0         \n",
      " )                                                               \n",
      "                                                                 \n",
      " conv2d_1 (Conv2D)           (None, 40, 40, 128)       401536    \n",
      "                                                                 \n",
      " max_pooling2d_1 (MaxPooling  (None, 20, 20, 128)      0         \n",
      " 2D)                                                             \n",
      "                                                                 \n",
      " conv2d_2 (Conv2D)           (None, 17, 17, 128)       262272    \n",
      "                                                                 \n",
      " max_pooling2d_2 (MaxPooling  (None, 9, 9, 128)        0         \n",
      " 2D)                                                             \n",
      "                                                                 \n",
      " conv2d_3 (Conv2D)           (None, 6, 6, 256)         524544    \n",
      "                                                                 \n",
      " flatten (Flatten)           (None, 9216)              0         \n",
      "                                                                 \n",
      " dense (Dense)               (None, 4096)              37752832  \n",
      "                                                                 \n",
      "=================================================================\n",
      "Total params: 38,960,448\n",
      "Trainable params: 38,960,448\n",
      "Non-trainable params: 0\n",
      "_________________________________________________________________\n"
     ]
    }
   ],
   "source": [
    "embedding.summary()"
   ]
  },
  {
   "cell_type": "markdown",
   "id": "27e0e810",
   "metadata": {},
   "source": [
    "## 4.2 Build Distance Layer"
   ]
  },
  {
   "cell_type": "code",
   "execution_count": 46,
   "id": "99019e03",
   "metadata": {},
   "outputs": [],
   "source": [
    "#Create a Siamese class L1Dist for the neural network layer\n",
    "class L1Dist(Layer):\n",
    "    \n",
    "    def __init__(self, **kwargs):\n",
    "        #inheritance\n",
    "        super().__init__()\n",
    "    \n",
    "    #checking the similarity btw respective anchor image \n",
    "    def call(self, input_embedding, validation_embedding):\n",
    "        return tf.math.abs(input_embedding - validation_embedding)"
   ]
  },
  {
   "cell_type": "code",
   "execution_count": 47,
   "id": "a5adc3f5",
   "metadata": {},
   "outputs": [],
   "source": [
    "l1 = L1Dist()"
   ]
  },
  {
   "cell_type": "code",
   "execution_count": null,
   "id": "1398746d",
   "metadata": {},
   "outputs": [],
   "source": [
    "l1(anchor_embedding, validation_embedding)"
   ]
  },
  {
   "cell_type": "markdown",
   "id": "9de3b4ab",
   "metadata": {},
   "source": [
    "## 4.3 Make Siamese Model"
   ]
  },
  {
   "cell_type": "code",
   "execution_count": 48,
   "id": "2aab4806",
   "metadata": {},
   "outputs": [],
   "source": [
    "def make_siamese_model():\n",
    "    \n",
    "    #Handle inputs\n",
    "    \n",
    "    #Anchor image in the network\n",
    "    input_image = Input(name='input_img', shape=(100,100,3))\n",
    "    \n",
    "    #Validation image in the network\n",
    "    validation_image = Input(name='validation_img', shape=(100,100,3))\n",
    "    \n",
    "    #Combine siamese deistance components\n",
    "    siamese_layer = L1Dist()\n",
    "    siamese_layer._name = 'distance'\n",
    "    distances = siamese_layer(embedding(input_image), embedding(validation_image))\n",
    "    \n",
    "    #classification layer\n",
    "    classifier = Dense(1, activation='sigmoid')(distances)\n",
    "    \n",
    "    return Model(inputs=[input_image, validation_image], outputs=classifier, name='SiamesNetwork')\n",
    "    "
   ]
  },
  {
   "cell_type": "code",
   "execution_count": 49,
   "id": "c3a7a985",
   "metadata": {},
   "outputs": [],
   "source": [
    "siamese_model = make_siamese_model()"
   ]
  },
  {
   "cell_type": "code",
   "execution_count": 50,
   "id": "e9e11930",
   "metadata": {},
   "outputs": [
    {
     "name": "stdout",
     "output_type": "stream",
     "text": [
      "Model: \"SiamesNetwork\"\n",
      "__________________________________________________________________________________________________\n",
      " Layer (type)                   Output Shape         Param #     Connected to                     \n",
      "==================================================================================================\n",
      " input_img (InputLayer)         [(None, 100, 100, 3  0           []                               \n",
      "                                )]                                                                \n",
      "                                                                                                  \n",
      " validation_img (InputLayer)    [(None, 100, 100, 3  0           []                               \n",
      "                                )]                                                                \n",
      "                                                                                                  \n",
      " embedding (Functional)         (None, 4096)         38960448    ['input_img[0][0]',              \n",
      "                                                                  'validation_img[0][0]']         \n",
      "                                                                                                  \n",
      " distance (L1Dist)              (None, 4096)         0           ['embedding[0][0]',              \n",
      "                                                                  'embedding[1][0]']              \n",
      "                                                                                                  \n",
      " dense_1 (Dense)                (None, 1)            4097        ['distance[0][0]']               \n",
      "                                                                                                  \n",
      "==================================================================================================\n",
      "Total params: 38,964,545\n",
      "Trainable params: 38,964,545\n",
      "Non-trainable params: 0\n",
      "__________________________________________________________________________________________________\n"
     ]
    }
   ],
   "source": [
    "siamese_model.summary()"
   ]
  },
  {
   "cell_type": "markdown",
   "id": "e4b3f5ce",
   "metadata": {},
   "source": [
    "# Training"
   ]
  },
  {
   "cell_type": "markdown",
   "id": "864090b4",
   "metadata": {},
   "source": [
    "## 5.1 Setup Loss and Optimizer"
   ]
  },
  {
   "cell_type": "code",
   "execution_count": 51,
   "id": "c79768d4",
   "metadata": {},
   "outputs": [],
   "source": [
    "#Loss function\n",
    "binary_cross_loss = tf.losses.BinaryCrossentropy()"
   ]
  },
  {
   "cell_type": "code",
   "execution_count": 52,
   "id": "41823c35",
   "metadata": {},
   "outputs": [],
   "source": [
    "#Using the Adam optimizer\n",
    "\n",
    "#1e-4 is the learning rate of #0.001\n",
    "opt = tf.keras.optimizers.Adam(1e-4) # 0.0001"
   ]
  },
  {
   "cell_type": "markdown",
   "id": "e52899d4",
   "metadata": {},
   "source": [
    "## 5.2 Establish Checkpoints"
   ]
  },
  {
   "cell_type": "code",
   "execution_count": 53,
   "id": "8649f21e",
   "metadata": {},
   "outputs": [],
   "source": [
    "#directory to save all our dir checkpoints\n",
    "checkpoint_dir = './training_checkpoints'\n",
    "#ckpt prefix for all checkpoints\n",
    "checkpoint_prefix = os.path.join(checkpoint_dir, 'ckpt')\n",
    "\n",
    "checkpoint = tf.train.Checkpoint(opt=opt, siamese_model=siamese_model)"
   ]
  },
  {
   "cell_type": "markdown",
   "id": "3d697f72",
   "metadata": {},
   "source": [
    "## 5.3 Build Train Step Function"
   ]
  },
  {
   "cell_type": "code",
   "execution_count": 54,
   "id": "2680f186",
   "metadata": {},
   "outputs": [],
   "source": [
    "test_batch = train_data.as_numpy_iterator()"
   ]
  },
  {
   "cell_type": "code",
   "execution_count": 55,
   "id": "41bfd44e",
   "metadata": {},
   "outputs": [],
   "source": [
    "batch_1 = test_batch.next()"
   ]
  },
  {
   "cell_type": "code",
   "execution_count": 56,
   "id": "49a4964a",
   "metadata": {},
   "outputs": [],
   "source": [
    "X = batch_1[:2]"
   ]
  },
  {
   "cell_type": "code",
   "execution_count": 57,
   "id": "21c2c6b5",
   "metadata": {},
   "outputs": [],
   "source": [
    "y = batch_1[2]"
   ]
  },
  {
   "cell_type": "code",
   "execution_count": 58,
   "id": "1b76b199",
   "metadata": {},
   "outputs": [
    {
     "data": {
      "text/plain": [
       "array([1., 0., 1., 1., 0., 1., 0., 1., 0., 1., 0., 0., 1., 1., 1., 1.],\n",
       "      dtype=float32)"
      ]
     },
     "execution_count": 58,
     "metadata": {},
     "output_type": "execute_result"
    }
   ],
   "source": [
    "y"
   ]
  },
  {
   "cell_type": "code",
   "execution_count": 59,
   "id": "a759ccf2",
   "metadata": {},
   "outputs": [],
   "source": [
    "tf.losses.BinaryCrossentropy??"
   ]
  },
  {
   "cell_type": "code",
   "execution_count": 60,
   "id": "c6bd89ed",
   "metadata": {},
   "outputs": [],
   "source": [
    "#Training on one batch of data\n",
    "\n",
    "#Why use a tf.function manner?\n",
    "# It compiles a function into a callable TensorFlow graph\n",
    "@tf.function\n",
    "def train_step(batch):\n",
    "    \n",
    "    # Record all of our operations \n",
    "    with tf.GradientTape() as tape:     \n",
    "        # Get anchor and positive/negative image\n",
    "        X = batch[:2]\n",
    "        # Get label\n",
    "        y = batch[2]\n",
    "        \n",
    "        # Forward pass\n",
    "        yhat = siamese_model(X, training=True)\n",
    "        # Calculate loss\n",
    "        loss = binary_cross_loss(y, yhat)\n",
    "    print(loss)\n",
    "        \n",
    "    # Calculate gradients\n",
    "    grad = tape.gradient(loss, siamese_model.trainable_variables)\n",
    "    \n",
    "    # Calculate updated weights and apply to siamese model\n",
    "    opt.apply_gradients(zip(grad, siamese_model.trainable_variables))\n",
    "        \n",
    "    # Return loss\n",
    "    return loss\n",
    "    "
   ]
  },
  {
   "cell_type": "markdown",
   "id": "b958a7b1",
   "metadata": {},
   "source": [
    "## 5.4 Build Training Loop"
   ]
  },
  {
   "cell_type": "code",
   "execution_count": 61,
   "id": "90fd6557",
   "metadata": {},
   "outputs": [],
   "source": [
    "# Import metric calculations\n",
    "from tensorflow.keras.metrics import Precision, Recall"
   ]
  },
  {
   "cell_type": "code",
   "execution_count": 62,
   "id": "c7e56f22",
   "metadata": {},
   "outputs": [],
   "source": [
    "def train(data, EPOCHS):\n",
    "    # Loop through epochs\n",
    "    for epoch in range(1, EPOCHS+1):\n",
    "        print('\\n Epoch {}/{}'.format(epoch, EPOCHS))\n",
    "        progbar = tf.keras.utils.Progbar(len(data))\n",
    "        \n",
    "        # Creating a metric object \n",
    "        r = Recall()\n",
    "        p = Precision()\n",
    "        \n",
    "        # Loop through each batch\n",
    "        for idx, batch in enumerate(data):\n",
    "            # Run train step here\n",
    "            loss = train_step(batch)\n",
    "            yhat = siamese_model.predict(batch[:2])\n",
    "            r.update_state(batch[2], yhat)\n",
    "            p.update_state(batch[2], yhat) \n",
    "            progbar.update(idx+1)\n",
    "        print(loss.numpy(), r.result().numpy(), p.result().numpy())\n",
    "        \n",
    "        # Save checkpoints\n",
    "        if epoch % 10 == 0: \n",
    "            checkpoint.save(file_prefix=checkpoint_prefix)"
   ]
  },
  {
   "cell_type": "markdown",
   "id": "9677fcff",
   "metadata": {},
   "source": [
    "## 5.5 Train the model"
   ]
  },
  {
   "cell_type": "code",
   "execution_count": 63,
   "id": "a2f4f085",
   "metadata": {},
   "outputs": [],
   "source": [
    "EPOCHS = 50"
   ]
  },
  {
   "cell_type": "code",
   "execution_count": 64,
   "id": "d4665a9a",
   "metadata": {
    "scrolled": true
   },
   "outputs": [
    {
     "name": "stdout",
     "output_type": "stream",
     "text": [
      "\n",
      " Epoch 1/50\n",
      "Tensor(\"binary_crossentropy/weighted_loss/value:0\", shape=(), dtype=float32)\n",
      "Tensor(\"binary_crossentropy/weighted_loss/value:0\", shape=(), dtype=float32)\n",
      "1/1 [==============================] - 1s 1s/step\n",
      "1/1 [==============================] - 1s 1s/step\n",
      "1/1 [==============================] - 1s 1s/step\n",
      "1/1 [==============================] - 1s 1s/step\n",
      "1/1 [==============================] - 1s 1s/step\n",
      "1/1 [==============================] - 1s 1s/step\n",
      "1/1 [==============================] - 1s 1s/step\n",
      "1/1 [==============================] - 1s 984ms/step\n",
      "1/1 [==============================] - 1s 986ms/step\n",
      "1/1 [==============================] - 1s 971ms/step\n",
      "1/1 [==============================] - 1s 968ms/step\n",
      "1/1 [==============================] - 1s 971ms/step\n",
      "1/1 [==============================] - 1s 967ms/step\n",
      "1/1 [==============================] - 1s 965ms/step\n",
      "1/1 [==============================] - 1s 966ms/step\n",
      "1/1 [==============================] - 1s 967ms/step\n",
      "1/1 [==============================] - 1s 972ms/step\n",
      "1/1 [==============================] - 1s 1s/step\n",
      "1/1 [==============================] - 1s 964ms/step\n",
      "1/1 [==============================] - 1s 963ms/step\n",
      "1/1 [==============================] - 1s 1s/step\n",
      "1/1 [==============================] - 1s 961ms/step\n",
      "1/1 [==============================] - 1s 967ms/step\n",
      "1/1 [==============================] - 1s 959ms/step\n",
      "1/1 [==============================] - 1s 970ms/step\n",
      "25/26 [===========================>..] - ETA: 5s Tensor(\"binary_crossentropy/weighted_loss/value:0\", shape=(), dtype=float32)\n",
      "1/1 [==============================] - 1s 552ms/step\n",
      "26/26 [==============================] - 149s 6s/step\n",
      "0.21168008 0.6039604 0.9918699\n",
      "\n",
      " Epoch 2/50\n",
      "1/1 [==============================] - 1s 976ms/step\n",
      "1/1 [==============================] - 1s 1s/step\n",
      "1/1 [==============================] - 1s 962ms/step\n",
      "1/1 [==============================] - 1s 1s/step\n",
      "1/1 [==============================] - 1s 955ms/step\n",
      "1/1 [==============================] - 1s 963ms/step\n",
      "1/1 [==============================] - 1s 972ms/step\n",
      "1/1 [==============================] - 1s 971ms/step\n",
      "1/1 [==============================] - 1s 964ms/step\n",
      "1/1 [==============================] - 1s 966ms/step\n",
      "1/1 [==============================] - 1s 971ms/step\n",
      "1/1 [==============================] - 1s 967ms/step\n",
      "1/1 [==============================] - 1s 1s/step\n",
      "1/1 [==============================] - 1s 973ms/step\n",
      "1/1 [==============================] - 1s 960ms/step\n",
      "1/1 [==============================] - 1s 963ms/step\n",
      "1/1 [==============================] - 1s 969ms/step\n",
      "1/1 [==============================] - 1s 981ms/step\n",
      "1/1 [==============================] - 1s 967ms/step\n",
      "1/1 [==============================] - 1s 966ms/step\n",
      "1/1 [==============================] - 1s 1s/step\n",
      "1/1 [==============================] - 1s 969ms/step\n",
      "1/1 [==============================] - 1s 960ms/step\n",
      "1/1 [==============================] - 1s 964ms/step\n",
      "1/1 [==============================] - 1s 961ms/step\n",
      "1/1 [==============================] - 1s 554ms/step\n",
      "26/26 [==============================] - 144s 6s/step\n",
      "0.0768189 0.9466019 0.9898477\n",
      "\n",
      " Epoch 3/50\n",
      "1/1 [==============================] - 1s 990ms/step\n",
      "1/1 [==============================] - 1s 960ms/step\n",
      "1/1 [==============================] - 1s 964ms/step\n",
      "1/1 [==============================] - 1s 980ms/step\n",
      "1/1 [==============================] - 1s 971ms/step\n",
      "1/1 [==============================] - 1s 963ms/step\n",
      "1/1 [==============================] - 1s 960ms/step\n",
      "1/1 [==============================] - 1s 970ms/step\n",
      "1/1 [==============================] - 1s 1s/step\n",
      "1/1 [==============================] - 1s 965ms/step\n",
      "1/1 [==============================] - 1s 958ms/step\n",
      "1/1 [==============================] - 1s 1s/step\n",
      "1/1 [==============================] - 1s 965ms/step\n",
      "1/1 [==============================] - 1s 976ms/step\n",
      "1/1 [==============================] - 1s 1s/step\n",
      "1/1 [==============================] - 1s 964ms/step\n",
      "1/1 [==============================] - 1s 962ms/step\n",
      "1/1 [==============================] - 1s 1s/step\n",
      "1/1 [==============================] - 1s 962ms/step\n",
      "1/1 [==============================] - 1s 980ms/step\n",
      "1/1 [==============================] - 1s 962ms/step\n",
      "1/1 [==============================] - 1s 961ms/step\n",
      "1/1 [==============================] - 1s 1s/step\n",
      "1/1 [==============================] - 1s 1s/step\n",
      "1/1 [==============================] - 1s 960ms/step\n",
      "1/1 [==============================] - 1s 576ms/step\n",
      "26/26 [==============================] - 146s 6s/step\n",
      "0.07775368 0.969697 0.9948186\n",
      "\n",
      " Epoch 4/50\n",
      "1/1 [==============================] - 1s 962ms/step\n",
      "1/1 [==============================] - 1s 965ms/step\n",
      "1/1 [==============================] - 1s 1s/step\n",
      "1/1 [==============================] - 1s 1s/step\n",
      "1/1 [==============================] - 1s 1s/step\n",
      "1/1 [==============================] - 1s 1s/step\n",
      "1/1 [==============================] - 1s 979ms/step\n",
      "1/1 [==============================] - 1s 963ms/step\n",
      "1/1 [==============================] - 1s 977ms/step\n",
      "1/1 [==============================] - 1s 961ms/step\n",
      "1/1 [==============================] - 1s 1s/step\n",
      "1/1 [==============================] - 1s 966ms/step\n",
      "1/1 [==============================] - 1s 959ms/step\n",
      "1/1 [==============================] - 1s 1s/step\n",
      "1/1 [==============================] - 1s 966ms/step\n",
      "1/1 [==============================] - 1s 960ms/step\n",
      "1/1 [==============================] - 1s 965ms/step\n",
      "1/1 [==============================] - 1s 966ms/step\n",
      "1/1 [==============================] - 1s 960ms/step\n",
      "1/1 [==============================] - 1s 966ms/step\n",
      "1/1 [==============================] - 1s 964ms/step\n",
      "1/1 [==============================] - 1s 964ms/step\n",
      "1/1 [==============================] - 1s 967ms/step\n",
      "1/1 [==============================] - 1s 973ms/step\n",
      "1/1 [==============================] - 1s 1s/step\n",
      "1/1 [==============================] - 1s 556ms/step\n",
      "26/26 [==============================] - 150s 6s/step\n",
      "0.07467936 0.95477384 0.98445594\n",
      "\n",
      " Epoch 5/50\n",
      "1/1 [==============================] - 1s 962ms/step\n",
      "1/1 [==============================] - 1s 975ms/step\n",
      "1/1 [==============================] - 1s 975ms/step\n",
      "1/1 [==============================] - 1s 966ms/step\n",
      "1/1 [==============================] - 1s 1s/step\n",
      "1/1 [==============================] - 1s 1s/step\n",
      "1/1 [==============================] - 1s 1s/step\n",
      "1/1 [==============================] - 1s 1s/step\n",
      "1/1 [==============================] - 1s 1s/step\n",
      "1/1 [==============================] - 1s 1s/step\n",
      "1/1 [==============================] - 1s 1s/step\n",
      "1/1 [==============================] - 1s 1s/step\n",
      "1/1 [==============================] - 1s 980ms/step\n",
      "1/1 [==============================] - 1s 1s/step\n",
      "1/1 [==============================] - 1s 1s/step\n",
      "1/1 [==============================] - 1s 1s/step\n",
      "1/1 [==============================] - 1s 975ms/step\n",
      "1/1 [==============================] - 1s 1s/step\n",
      "1/1 [==============================] - 1s 972ms/step\n",
      "1/1 [==============================] - 1s 670ms/step\n",
      "1/1 [==============================] - 1s 700ms/step\n",
      "1/1 [==============================] - 1s 700ms/step\n",
      "1/1 [==============================] - 1s 711ms/step\n",
      "1/1 [==============================] - 1s 745ms/step\n",
      "1/1 [==============================] - 1s 756ms/step\n",
      "1/1 [==============================] - 0s 438ms/step\n",
      "26/26 [==============================] - 145s 6s/step\n",
      "0.0077387444 0.9444444 0.9946808\n",
      "\n",
      " Epoch 6/50\n",
      "1/1 [==============================] - 1s 735ms/step\n",
      "1/1 [==============================] - 1s 785ms/step\n",
      "1/1 [==============================] - 1s 767ms/step\n",
      "1/1 [==============================] - 1s 723ms/step\n",
      "1/1 [==============================] - 1s 744ms/step\n",
      "1/1 [==============================] - 1s 739ms/step\n",
      "1/1 [==============================] - 1s 770ms/step\n",
      "1/1 [==============================] - 1s 741ms/step\n",
      "1/1 [==============================] - 1s 752ms/step\n",
      "1/1 [==============================] - 1s 802ms/step\n",
      "1/1 [==============================] - 1s 737ms/step\n"
     ]
    },
    {
     "name": "stdout",
     "output_type": "stream",
     "text": [
      "1/1 [==============================] - 1s 744ms/step\n",
      "1/1 [==============================] - 1s 757ms/step\n",
      "1/1 [==============================] - 1s 761ms/step\n",
      "1/1 [==============================] - 1s 743ms/step\n",
      "1/1 [==============================] - 1s 763ms/step\n",
      "1/1 [==============================] - 1s 749ms/step\n",
      "1/1 [==============================] - 1s 761ms/step\n",
      "1/1 [==============================] - 1s 747ms/step\n",
      "1/1 [==============================] - 1s 762ms/step\n",
      "1/1 [==============================] - 1s 766ms/step\n",
      "1/1 [==============================] - 1s 762ms/step\n",
      "1/1 [==============================] - 1s 735ms/step\n",
      "1/1 [==============================] - 1s 784ms/step\n",
      "1/1 [==============================] - 1s 767ms/step\n",
      "1/1 [==============================] - 0s 447ms/step\n",
      "26/26 [==============================] - 115s 4s/step\n",
      "0.060747642 0.9947644 1.0\n",
      "\n",
      " Epoch 7/50\n",
      "1/1 [==============================] - 1s 762ms/step\n",
      "1/1 [==============================] - 1s 862ms/step\n",
      "1/1 [==============================] - 1s 745ms/step\n",
      "1/1 [==============================] - 1s 829ms/step\n",
      "1/1 [==============================] - 1s 764ms/step\n",
      "1/1 [==============================] - 1s 788ms/step\n",
      "1/1 [==============================] - 1s 777ms/step\n",
      "1/1 [==============================] - 1s 790ms/step\n",
      "1/1 [==============================] - 1s 880ms/step\n",
      "1/1 [==============================] - 1s 851ms/step\n",
      "1/1 [==============================] - 1s 758ms/step\n",
      "1/1 [==============================] - 1s 758ms/step\n",
      "1/1 [==============================] - 1s 786ms/step\n",
      "1/1 [==============================] - 1s 789ms/step\n",
      "1/1 [==============================] - 1s 802ms/step\n",
      "1/1 [==============================] - 1s 882ms/step\n",
      "1/1 [==============================] - 1s 783ms/step\n",
      "1/1 [==============================] - 1s 769ms/step\n",
      "1/1 [==============================] - 1s 803ms/step\n",
      "1/1 [==============================] - 1s 783ms/step\n",
      "1/1 [==============================] - 1s 767ms/step\n",
      "1/1 [==============================] - 1s 789ms/step\n",
      "1/1 [==============================] - 1s 883ms/step\n",
      "1/1 [==============================] - 1s 924ms/step\n",
      "1/1 [==============================] - 1s 766ms/step\n",
      "1/1 [==============================] - 0s 457ms/step\n",
      "26/26 [==============================] - 121s 5s/step\n",
      "0.03732034 0.97969544 0.9948454\n",
      "\n",
      " Epoch 8/50\n",
      "1/1 [==============================] - 1s 766ms/step\n",
      "1/1 [==============================] - 1s 764ms/step\n",
      "1/1 [==============================] - 1s 757ms/step\n",
      "1/1 [==============================] - 1s 737ms/step\n",
      "1/1 [==============================] - 1s 782ms/step\n",
      "1/1 [==============================] - 1s 741ms/step\n",
      "1/1 [==============================] - 1s 754ms/step\n",
      "1/1 [==============================] - 1s 779ms/step\n",
      "1/1 [==============================] - 1s 746ms/step\n",
      "1/1 [==============================] - 1s 764ms/step\n",
      "1/1 [==============================] - 1s 832ms/step\n",
      "1/1 [==============================] - 1s 754ms/step\n",
      "1/1 [==============================] - 1s 758ms/step\n",
      "1/1 [==============================] - 1s 742ms/step\n",
      "1/1 [==============================] - 1s 788ms/step\n",
      "1/1 [==============================] - 1s 760ms/step\n",
      "1/1 [==============================] - 1s 735ms/step\n",
      "1/1 [==============================] - 1s 810ms/step\n",
      "1/1 [==============================] - 1s 821ms/step\n",
      "1/1 [==============================] - 1s 815ms/step\n",
      "1/1 [==============================] - 1s 781ms/step\n",
      "1/1 [==============================] - 1s 779ms/step\n",
      "1/1 [==============================] - 1s 808ms/step\n",
      "1/1 [==============================] - 1s 774ms/step\n",
      "1/1 [==============================] - 1s 813ms/step\n",
      "1/1 [==============================] - 1s 525ms/step\n",
      "26/26 [==============================] - 118s 5s/step\n",
      "0.022507317 1.0 1.0\n",
      "\n",
      " Epoch 9/50\n",
      "1/1 [==============================] - 1s 738ms/step\n",
      "1/1 [==============================] - 1s 768ms/step\n",
      "1/1 [==============================] - 1s 760ms/step\n",
      "1/1 [==============================] - 1s 762ms/step\n",
      "1/1 [==============================] - 1s 821ms/step\n",
      "1/1 [==============================] - 1s 807ms/step\n",
      "1/1 [==============================] - 1s 763ms/step\n",
      "1/1 [==============================] - 1s 836ms/step\n",
      "1/1 [==============================] - 1s 758ms/step\n",
      "1/1 [==============================] - 1s 782ms/step\n",
      "1/1 [==============================] - 1s 759ms/step\n",
      "1/1 [==============================] - 1s 833ms/step\n",
      "1/1 [==============================] - 1s 803ms/step\n",
      "1/1 [==============================] - 1s 757ms/step\n",
      "1/1 [==============================] - 1s 758ms/step\n",
      "1/1 [==============================] - 1s 789ms/step\n",
      "1/1 [==============================] - 1s 778ms/step\n",
      "1/1 [==============================] - 1s 758ms/step\n",
      "1/1 [==============================] - 1s 781ms/step\n",
      "1/1 [==============================] - 1s 836ms/step\n",
      "1/1 [==============================] - 1s 797ms/step\n",
      "1/1 [==============================] - 1s 744ms/step\n",
      "1/1 [==============================] - 1s 782ms/step\n",
      "1/1 [==============================] - 1s 765ms/step\n",
      "1/1 [==============================] - 1s 757ms/step\n",
      "1/1 [==============================] - 0s 451ms/step\n",
      "26/26 [==============================] - 117s 5s/step\n",
      "0.039249368 1.0 1.0\n",
      "\n",
      " Epoch 10/50\n",
      "1/1 [==============================] - 1s 787ms/step\n",
      "1/1 [==============================] - 1s 784ms/step\n",
      "1/1 [==============================] - 1s 760ms/step\n",
      "1/1 [==============================] - 1s 785ms/step\n",
      "1/1 [==============================] - 1s 785ms/step\n",
      "1/1 [==============================] - 1s 738ms/step\n",
      "1/1 [==============================] - 1s 780ms/step\n",
      "1/1 [==============================] - 1s 772ms/step\n",
      "1/1 [==============================] - 1s 788ms/step\n",
      "1/1 [==============================] - 1s 738ms/step\n",
      "1/1 [==============================] - 1s 781ms/step\n",
      "1/1 [==============================] - 1s 829ms/step\n",
      "1/1 [==============================] - 1s 794ms/step\n",
      "1/1 [==============================] - 1s 735ms/step\n",
      "1/1 [==============================] - 1s 857ms/step\n",
      "1/1 [==============================] - 1s 785ms/step\n",
      "1/1 [==============================] - 1s 784ms/step\n",
      "1/1 [==============================] - 1s 762ms/step\n",
      "1/1 [==============================] - 1s 788ms/step\n",
      "1/1 [==============================] - 1s 762ms/step\n",
      "1/1 [==============================] - 1s 906ms/step\n",
      "1/1 [==============================] - 1s 887ms/step\n",
      "1/1 [==============================] - 1s 858ms/step\n",
      "1/1 [==============================] - 1s 837ms/step\n",
      "1/1 [==============================] - 1s 824ms/step\n",
      "1/1 [==============================] - 0s 452ms/step\n",
      "26/26 [==============================] - 120s 5s/step\n",
      "0.01211984 1.0 1.0\n",
      "\n",
      " Epoch 11/50\n",
      "1/1 [==============================] - 1s 736ms/step\n",
      "1/1 [==============================] - 1s 895ms/step\n",
      "1/1 [==============================] - 1s 865ms/step\n",
      "1/1 [==============================] - 1s 845ms/step\n",
      "1/1 [==============================] - 1s 942ms/step\n",
      "1/1 [==============================] - 1s 838ms/step\n",
      "1/1 [==============================] - 1s 816ms/step\n",
      "1/1 [==============================] - 1s 809ms/step\n",
      "1/1 [==============================] - 1s 911ms/step\n",
      "1/1 [==============================] - 1s 819ms/step\n",
      "1/1 [==============================] - 1s 876ms/step\n",
      "1/1 [==============================] - 1s 873ms/step\n",
      "1/1 [==============================] - 1s 886ms/step\n",
      "1/1 [==============================] - 1s 862ms/step\n",
      "1/1 [==============================] - 1s 840ms/step\n",
      "1/1 [==============================] - 1s 845ms/step\n",
      "1/1 [==============================] - 1s 841ms/step\n",
      "1/1 [==============================] - 1s 854ms/step\n",
      "1/1 [==============================] - 1s 882ms/step\n",
      "1/1 [==============================] - 1s 868ms/step\n",
      "1/1 [==============================] - 1s 852ms/step\n",
      "1/1 [==============================] - 1s 865ms/step\n",
      "1/1 [==============================] - 1s 840ms/step\n",
      "1/1 [==============================] - 1s 882ms/step\n",
      "1/1 [==============================] - 1s 858ms/step\n",
      "1/1 [==============================] - 0s 484ms/step\n",
      "26/26 [==============================] - 129s 5s/step\n"
     ]
    },
    {
     "name": "stdout",
     "output_type": "stream",
     "text": [
      "0.0030994697 1.0 1.0\n",
      "\n",
      " Epoch 12/50\n",
      "1/1 [==============================] - 1s 892ms/step\n",
      "1/1 [==============================] - 1s 840ms/step\n",
      "1/1 [==============================] - 1s 883ms/step\n",
      "1/1 [==============================] - 1s 856ms/step\n",
      "1/1 [==============================] - 1s 882ms/step\n",
      "1/1 [==============================] - 1s 839ms/step\n",
      "1/1 [==============================] - 1s 853ms/step\n",
      "1/1 [==============================] - 1s 812ms/step\n",
      "1/1 [==============================] - 1s 806ms/step\n",
      "1/1 [==============================] - 1s 819ms/step\n",
      "1/1 [==============================] - 1s 783ms/step\n",
      "1/1 [==============================] - 1s 812ms/step\n",
      "1/1 [==============================] - 1s 811ms/step\n",
      "1/1 [==============================] - 1s 843ms/step\n",
      "1/1 [==============================] - 1s 838ms/step\n",
      "1/1 [==============================] - 1s 883ms/step\n",
      "1/1 [==============================] - 1s 810ms/step\n",
      "1/1 [==============================] - 1s 904ms/step\n",
      "1/1 [==============================] - 1s 846ms/step\n",
      "1/1 [==============================] - 1s 832ms/step\n",
      "1/1 [==============================] - 1s 807ms/step\n",
      "1/1 [==============================] - 1s 797ms/step\n",
      "1/1 [==============================] - 1s 790ms/step\n",
      "1/1 [==============================] - 1s 789ms/step\n",
      "1/1 [==============================] - 1s 835ms/step\n",
      "1/1 [==============================] - 0s 450ms/step\n",
      "26/26 [==============================] - 126s 5s/step\n",
      "0.00019898443 1.0 1.0\n",
      "\n",
      " Epoch 13/50\n",
      "1/1 [==============================] - 1s 784ms/step\n",
      "1/1 [==============================] - 1s 780ms/step\n",
      "1/1 [==============================] - 1s 783ms/step\n",
      "1/1 [==============================] - 1s 804ms/step\n",
      "1/1 [==============================] - 1s 806ms/step\n",
      "1/1 [==============================] - 1s 821ms/step\n",
      "1/1 [==============================] - 1s 807ms/step\n",
      "1/1 [==============================] - 1s 814ms/step\n",
      "1/1 [==============================] - 1s 827ms/step\n",
      "1/1 [==============================] - 1s 787ms/step\n",
      "1/1 [==============================] - 1s 772ms/step\n",
      "1/1 [==============================] - 1s 779ms/step\n",
      "1/1 [==============================] - 1s 805ms/step\n",
      "1/1 [==============================] - 1s 804ms/step\n",
      "1/1 [==============================] - 1s 815ms/step\n",
      "1/1 [==============================] - 1s 883ms/step\n",
      "1/1 [==============================] - 1s 811ms/step\n",
      "1/1 [==============================] - 1s 804ms/step\n",
      "1/1 [==============================] - 1s 810ms/step\n",
      "1/1 [==============================] - 1s 810ms/step\n",
      "1/1 [==============================] - 1s 806ms/step\n",
      "1/1 [==============================] - 1s 816ms/step\n",
      "1/1 [==============================] - 1s 806ms/step\n",
      "1/1 [==============================] - 1s 814ms/step\n",
      "1/1 [==============================] - 1s 809ms/step\n",
      "1/1 [==============================] - 0s 462ms/step\n",
      "26/26 [==============================] - 121s 5s/step\n",
      "0.0005760176 1.0 1.0\n",
      "\n",
      " Epoch 14/50\n",
      "1/1 [==============================] - 1s 809ms/step\n",
      "1/1 [==============================] - 1s 836ms/step\n",
      "1/1 [==============================] - 1s 832ms/step\n",
      "1/1 [==============================] - 1s 832ms/step\n",
      "1/1 [==============================] - 1s 829ms/step\n",
      "1/1 [==============================] - 1s 802ms/step\n",
      "1/1 [==============================] - 1s 851ms/step\n",
      "1/1 [==============================] - 1s 849ms/step\n",
      "1/1 [==============================] - 1s 865ms/step\n",
      "1/1 [==============================] - 1s 845ms/step\n",
      "1/1 [==============================] - 1s 894ms/step\n",
      "1/1 [==============================] - 1s 840ms/step\n",
      "1/1 [==============================] - 1s 833ms/step\n",
      "1/1 [==============================] - 1s 886ms/step\n",
      "1/1 [==============================] - 1s 845ms/step\n",
      "1/1 [==============================] - 1s 837ms/step\n",
      "1/1 [==============================] - 1s 835ms/step\n",
      "1/1 [==============================] - 1s 841ms/step\n",
      "1/1 [==============================] - 1s 920ms/step\n",
      "1/1 [==============================] - 1s 836ms/step\n",
      "1/1 [==============================] - 1s 835ms/step\n",
      "1/1 [==============================] - 1s 840ms/step\n",
      "1/1 [==============================] - 1s 958ms/step\n",
      "1/1 [==============================] - 1s 853ms/step\n",
      "1/1 [==============================] - 1s 852ms/step\n",
      "1/1 [==============================] - 0s 479ms/step\n",
      "26/26 [==============================] - 126s 5s/step\n",
      "0.00074065884 1.0 1.0\n",
      "\n",
      " Epoch 15/50\n",
      "1/1 [==============================] - 1s 837ms/step\n",
      "1/1 [==============================] - 1s 831ms/step\n",
      "1/1 [==============================] - 1s 831ms/step\n",
      "1/1 [==============================] - 1s 874ms/step\n",
      "1/1 [==============================] - 1s 841ms/step\n",
      "1/1 [==============================] - 1s 839ms/step\n",
      "1/1 [==============================] - 1s 848ms/step\n",
      "1/1 [==============================] - 1s 845ms/step\n",
      "1/1 [==============================] - 1s 832ms/step\n",
      "1/1 [==============================] - 1s 836ms/step\n",
      "1/1 [==============================] - 1s 835ms/step\n",
      "1/1 [==============================] - 1s 985ms/step\n",
      "1/1 [==============================] - 1s 961ms/step\n",
      "1/1 [==============================] - 1s 1s/step\n",
      "1/1 [==============================] - 1s 971ms/step\n",
      "1/1 [==============================] - 1s 987ms/step\n",
      "1/1 [==============================] - 1s 973ms/step\n",
      "1/1 [==============================] - 1s 967ms/step\n",
      "1/1 [==============================] - 1s 1s/step\n",
      "1/1 [==============================] - 1s 964ms/step\n",
      "1/1 [==============================] - 1s 965ms/step\n",
      "1/1 [==============================] - 1s 964ms/step\n",
      "1/1 [==============================] - 1s 966ms/step\n",
      "1/1 [==============================] - 1s 957ms/step\n",
      "1/1 [==============================] - 1s 960ms/step\n",
      "1/1 [==============================] - 1s 552ms/step\n",
      "26/26 [==============================] - 137s 5s/step\n",
      "0.0005599755 1.0 1.0\n",
      "\n",
      " Epoch 16/50\n",
      "1/1 [==============================] - 1s 957ms/step\n",
      "1/1 [==============================] - 1s 959ms/step\n",
      "1/1 [==============================] - 1s 964ms/step\n",
      "1/1 [==============================] - 1s 958ms/step\n",
      "1/1 [==============================] - 1s 960ms/step\n",
      "1/1 [==============================] - 1s 974ms/step\n",
      "1/1 [==============================] - 1s 964ms/step\n",
      "1/1 [==============================] - 1s 963ms/step\n",
      "1/1 [==============================] - 1s 975ms/step\n",
      "1/1 [==============================] - 1s 968ms/step\n",
      "1/1 [==============================] - 1s 961ms/step\n",
      "1/1 [==============================] - 1s 957ms/step\n",
      "1/1 [==============================] - 1s 961ms/step\n",
      "1/1 [==============================] - 1s 978ms/step\n",
      "1/1 [==============================] - 1s 961ms/step\n",
      "1/1 [==============================] - 1s 983ms/step\n",
      "1/1 [==============================] - 1s 957ms/step\n",
      "1/1 [==============================] - 1s 966ms/step\n",
      "1/1 [==============================] - 1s 1s/step\n",
      "1/1 [==============================] - 1s 959ms/step\n",
      "1/1 [==============================] - 1s 960ms/step\n",
      "1/1 [==============================] - 1s 962ms/step\n",
      "1/1 [==============================] - 1s 955ms/step\n",
      "1/1 [==============================] - 1s 959ms/step\n",
      "1/1 [==============================] - 1s 958ms/step\n",
      "1/1 [==============================] - 1s 550ms/step\n",
      "26/26 [==============================] - 144s 6s/step\n",
      "0.0013996873 1.0 1.0\n",
      "\n",
      " Epoch 17/50\n",
      "1/1 [==============================] - 1s 967ms/step\n",
      "1/1 [==============================] - 1s 975ms/step\n",
      "1/1 [==============================] - 1s 960ms/step\n",
      "1/1 [==============================] - 1s 966ms/step\n",
      "1/1 [==============================] - 1s 1s/step\n",
      "1/1 [==============================] - 1s 960ms/step\n",
      "1/1 [==============================] - 1s 968ms/step\n",
      "1/1 [==============================] - 1s 972ms/step\n",
      "1/1 [==============================] - 1s 1s/step\n",
      "1/1 [==============================] - 1s 972ms/step\n",
      "1/1 [==============================] - 1s 972ms/step\n",
      "1/1 [==============================] - 1s 1s/step\n",
      "1/1 [==============================] - 1s 978ms/step\n",
      "1/1 [==============================] - 1s 963ms/step\n",
      "1/1 [==============================] - 1s 967ms/step\n"
     ]
    },
    {
     "name": "stdout",
     "output_type": "stream",
     "text": [
      "1/1 [==============================] - 1s 956ms/step\n",
      "1/1 [==============================] - 1s 961ms/step\n",
      "1/1 [==============================] - 1s 964ms/step\n",
      "1/1 [==============================] - 1s 967ms/step\n",
      "1/1 [==============================] - 1s 957ms/step\n",
      "1/1 [==============================] - 1s 961ms/step\n",
      "1/1 [==============================] - 1s 980ms/step\n",
      "1/1 [==============================] - 1s 1s/step\n",
      "1/1 [==============================] - 1s 961ms/step\n",
      "1/1 [==============================] - 1s 950ms/step\n",
      "1/1 [==============================] - 1s 559ms/step\n",
      "26/26 [==============================] - 146s 6s/step\n",
      "0.0005642379 1.0 1.0\n",
      "\n",
      " Epoch 18/50\n",
      "1/1 [==============================] - 1s 966ms/step\n",
      "1/1 [==============================] - 1s 977ms/step\n",
      "1/1 [==============================] - 1s 961ms/step\n",
      "1/1 [==============================] - 1s 959ms/step\n",
      "1/1 [==============================] - 1s 958ms/step\n",
      "1/1 [==============================] - 1s 946ms/step\n",
      "1/1 [==============================] - 1s 982ms/step\n",
      "1/1 [==============================] - 1s 955ms/step\n",
      "1/1 [==============================] - 1s 963ms/step\n",
      "1/1 [==============================] - 1s 1s/step\n",
      "1/1 [==============================] - 1s 970ms/step\n",
      "1/1 [==============================] - 1s 963ms/step\n",
      "1/1 [==============================] - 1s 1s/step\n",
      "1/1 [==============================] - 1s 961ms/step\n",
      "1/1 [==============================] - 1s 961ms/step\n",
      "1/1 [==============================] - 1s 967ms/step\n",
      "1/1 [==============================] - 1s 961ms/step\n",
      "1/1 [==============================] - 1s 964ms/step\n",
      "1/1 [==============================] - 1s 961ms/step\n",
      "1/1 [==============================] - 1s 1s/step\n",
      "1/1 [==============================] - 1s 961ms/step\n",
      "1/1 [==============================] - 1s 964ms/step\n",
      "1/1 [==============================] - 1s 1s/step\n",
      "1/1 [==============================] - 1s 960ms/step\n",
      "1/1 [==============================] - 1s 958ms/step\n",
      "1/1 [==============================] - 1s 550ms/step\n",
      "26/26 [==============================] - 144s 6s/step\n",
      "0.0007513791 1.0 1.0\n",
      "\n",
      " Epoch 19/50\n",
      "1/1 [==============================] - 1s 966ms/step\n",
      "1/1 [==============================] - 1s 956ms/step\n",
      "1/1 [==============================] - 1s 973ms/step\n",
      "1/1 [==============================] - 1s 960ms/step\n",
      "1/1 [==============================] - 1s 960ms/step\n",
      "1/1 [==============================] - 1s 959ms/step\n",
      "1/1 [==============================] - 1s 951ms/step\n",
      "1/1 [==============================] - 1s 959ms/step\n",
      "1/1 [==============================] - 1s 963ms/step\n",
      "1/1 [==============================] - 1s 1s/step\n",
      "1/1 [==============================] - 1s 952ms/step\n",
      "1/1 [==============================] - 1s 980ms/step\n",
      "1/1 [==============================] - 1s 958ms/step\n",
      "1/1 [==============================] - 1s 967ms/step\n",
      "1/1 [==============================] - 1s 958ms/step\n",
      "1/1 [==============================] - 1s 965ms/step\n",
      "1/1 [==============================] - 1s 960ms/step\n",
      "1/1 [==============================] - 1s 967ms/step\n",
      "1/1 [==============================] - 1s 975ms/step\n",
      "1/1 [==============================] - 1s 961ms/step\n",
      "1/1 [==============================] - 1s 971ms/step\n",
      "1/1 [==============================] - 1s 962ms/step\n",
      "1/1 [==============================] - 1s 969ms/step\n",
      "1/1 [==============================] - 1s 980ms/step\n",
      "1/1 [==============================] - 1s 956ms/step\n",
      "1/1 [==============================] - 1s 566ms/step\n",
      "26/26 [==============================] - 146s 6s/step\n",
      "0.000110609006 1.0 1.0\n",
      "\n",
      " Epoch 20/50\n",
      "1/1 [==============================] - 1s 977ms/step\n",
      "1/1 [==============================] - 1s 957ms/step\n",
      "1/1 [==============================] - 1s 1s/step\n",
      "1/1 [==============================] - 1s 1s/step\n",
      "1/1 [==============================] - 1s 958ms/step\n",
      "1/1 [==============================] - 1s 962ms/step\n",
      "1/1 [==============================] - 1s 1s/step\n",
      "1/1 [==============================] - 1s 958ms/step\n",
      "1/1 [==============================] - 1s 961ms/step\n",
      "1/1 [==============================] - 1s 1s/step\n",
      "1/1 [==============================] - 1s 956ms/step\n",
      "1/1 [==============================] - 1s 959ms/step\n",
      "1/1 [==============================] - 1s 963ms/step\n",
      "1/1 [==============================] - 1s 962ms/step\n",
      "1/1 [==============================] - 1s 958ms/step\n",
      "1/1 [==============================] - 1s 955ms/step\n",
      "1/1 [==============================] - 1s 960ms/step\n",
      "1/1 [==============================] - 1s 959ms/step\n",
      "1/1 [==============================] - 1s 992ms/step\n",
      "1/1 [==============================] - 1s 966ms/step\n",
      "1/1 [==============================] - 1s 963ms/step\n",
      "1/1 [==============================] - 1s 964ms/step\n",
      "1/1 [==============================] - 1s 963ms/step\n",
      "1/1 [==============================] - 1s 973ms/step\n",
      "1/1 [==============================] - 1s 957ms/step\n",
      "1/1 [==============================] - 1s 546ms/step\n",
      "26/26 [==============================] - 144s 6s/step\n",
      "0.00158809 1.0 1.0\n",
      "\n",
      " Epoch 21/50\n",
      "1/1 [==============================] - 1s 955ms/step\n",
      "1/1 [==============================] - 1s 969ms/step\n",
      "1/1 [==============================] - 1s 967ms/step\n",
      "1/1 [==============================] - 1s 956ms/step\n",
      "1/1 [==============================] - 1s 958ms/step\n",
      "1/1 [==============================] - 1s 1s/step\n",
      "1/1 [==============================] - 1s 961ms/step\n",
      "1/1 [==============================] - 1s 1s/step\n",
      "1/1 [==============================] - 1s 1s/step\n",
      "1/1 [==============================] - 1s 963ms/step\n",
      "1/1 [==============================] - 1s 955ms/step\n",
      "1/1 [==============================] - 1s 969ms/step\n",
      "1/1 [==============================] - 1s 960ms/step\n",
      "1/1 [==============================] - 1s 971ms/step\n",
      "1/1 [==============================] - 1s 953ms/step\n",
      "1/1 [==============================] - 1s 964ms/step\n",
      "1/1 [==============================] - 1s 948ms/step\n",
      "1/1 [==============================] - 1s 955ms/step\n",
      "1/1 [==============================] - 1s 953ms/step\n",
      "1/1 [==============================] - 1s 959ms/step\n",
      "1/1 [==============================] - 1s 962ms/step\n",
      "1/1 [==============================] - 1s 957ms/step\n",
      "1/1 [==============================] - 1s 977ms/step\n",
      "1/1 [==============================] - 1s 958ms/step\n",
      "1/1 [==============================] - 1s 954ms/step\n",
      "1/1 [==============================] - 1s 547ms/step\n",
      "26/26 [==============================] - 143s 6s/step\n",
      "0.00033136358 1.0 1.0\n",
      "\n",
      " Epoch 22/50\n",
      "1/1 [==============================] - 1s 954ms/step\n",
      "1/1 [==============================] - 1s 959ms/step\n",
      "1/1 [==============================] - 1s 963ms/step\n",
      "1/1 [==============================] - 1s 970ms/step\n",
      "1/1 [==============================] - 1s 982ms/step\n",
      "1/1 [==============================] - 1s 975ms/step\n",
      "1/1 [==============================] - 1s 959ms/step\n",
      "1/1 [==============================] - 1s 957ms/step\n",
      "1/1 [==============================] - 1s 1s/step\n",
      "1/1 [==============================] - 1s 955ms/step\n",
      "1/1 [==============================] - 1s 956ms/step\n",
      "1/1 [==============================] - 1s 969ms/step\n",
      "1/1 [==============================] - 1s 958ms/step\n",
      "1/1 [==============================] - 1s 955ms/step\n",
      "1/1 [==============================] - 1s 964ms/step\n",
      "1/1 [==============================] - 1s 957ms/step\n",
      "1/1 [==============================] - 1s 992ms/step\n",
      "1/1 [==============================] - 1s 963ms/step\n",
      "1/1 [==============================] - 1s 958ms/step\n",
      "1/1 [==============================] - 1s 955ms/step\n",
      "1/1 [==============================] - 1s 968ms/step\n",
      "1/1 [==============================] - 1s 970ms/step\n",
      "1/1 [==============================] - 1s 962ms/step\n",
      "1/1 [==============================] - 1s 968ms/step\n",
      "1/1 [==============================] - 1s 958ms/step\n",
      "1/1 [==============================] - 1s 544ms/step\n",
      "26/26 [==============================] - 143s 6s/step\n",
      "0.00049175334 1.0 1.0\n",
      "\n",
      " Epoch 23/50\n",
      "1/1 [==============================] - 1s 960ms/step\n",
      "1/1 [==============================] - 1s 957ms/step\n",
      "1/1 [==============================] - 1s 963ms/step\n",
      "1/1 [==============================] - 1s 967ms/step\n"
     ]
    },
    {
     "name": "stdout",
     "output_type": "stream",
     "text": [
      "1/1 [==============================] - 1s 990ms/step\n",
      "1/1 [==============================] - 1s 984ms/step\n",
      "1/1 [==============================] - 1s 967ms/step\n",
      "1/1 [==============================] - 1s 965ms/step\n",
      "1/1 [==============================] - 1s 985ms/step\n",
      "1/1 [==============================] - 1s 960ms/step\n",
      "1/1 [==============================] - 1s 975ms/step\n",
      "1/1 [==============================] - 1s 1s/step\n",
      "1/1 [==============================] - 1s 971ms/step\n",
      "1/1 [==============================] - 1s 956ms/step\n",
      "1/1 [==============================] - 1s 967ms/step\n",
      "1/1 [==============================] - 1s 967ms/step\n",
      "1/1 [==============================] - 1s 969ms/step\n",
      "1/1 [==============================] - 1s 957ms/step\n",
      "1/1 [==============================] - 1s 972ms/step\n",
      "1/1 [==============================] - 1s 968ms/step\n",
      "1/1 [==============================] - 1s 960ms/step\n",
      "1/1 [==============================] - 1s 959ms/step\n",
      "1/1 [==============================] - 1s 964ms/step\n",
      "1/1 [==============================] - 1s 956ms/step\n",
      "1/1 [==============================] - 1s 959ms/step\n",
      "1/1 [==============================] - 1s 554ms/step\n",
      "26/26 [==============================] - 144s 6s/step\n",
      "0.00063755363 1.0 1.0\n",
      "\n",
      " Epoch 24/50\n",
      "1/1 [==============================] - 1s 959ms/step\n",
      "1/1 [==============================] - 1s 957ms/step\n",
      "1/1 [==============================] - 1s 951ms/step\n",
      "1/1 [==============================] - 1s 952ms/step\n",
      "1/1 [==============================] - 1s 961ms/step\n",
      "1/1 [==============================] - 1s 1s/step\n",
      "1/1 [==============================] - 1s 960ms/step\n",
      "1/1 [==============================] - 1s 973ms/step\n",
      "1/1 [==============================] - 1s 972ms/step\n",
      "1/1 [==============================] - 1s 958ms/step\n",
      "1/1 [==============================] - 1s 958ms/step\n",
      "1/1 [==============================] - 1s 1s/step\n",
      "1/1 [==============================] - 1s 967ms/step\n",
      "1/1 [==============================] - 1s 971ms/step\n",
      "1/1 [==============================] - 1s 956ms/step\n",
      "1/1 [==============================] - 1s 963ms/step\n",
      "1/1 [==============================] - 1s 958ms/step\n",
      "1/1 [==============================] - 1s 956ms/step\n",
      "1/1 [==============================] - 1s 958ms/step\n",
      "1/1 [==============================] - 1s 960ms/step\n",
      "1/1 [==============================] - 1s 949ms/step\n",
      "1/1 [==============================] - 1s 965ms/step\n",
      "1/1 [==============================] - 1s 954ms/step\n",
      "1/1 [==============================] - 1s 959ms/step\n",
      "1/1 [==============================] - 1s 957ms/step\n",
      "1/1 [==============================] - 1s 551ms/step\n",
      "26/26 [==============================] - 143s 6s/step\n",
      "1.0132841e-06 1.0 1.0\n",
      "\n",
      " Epoch 25/50\n",
      "1/1 [==============================] - 1s 1s/step\n",
      "1/1 [==============================] - 1s 967ms/step\n",
      "1/1 [==============================] - 1s 959ms/step\n",
      "1/1 [==============================] - 1s 1s/step\n",
      "1/1 [==============================] - 1s 963ms/step\n",
      "1/1 [==============================] - 1s 958ms/step\n",
      "1/1 [==============================] - 1s 961ms/step\n",
      "1/1 [==============================] - 1s 953ms/step\n",
      "1/1 [==============================] - 1s 984ms/step\n",
      "1/1 [==============================] - 1s 1s/step\n",
      "1/1 [==============================] - 1s 954ms/step\n",
      "1/1 [==============================] - 1s 1s/step\n",
      "1/1 [==============================] - 1s 965ms/step\n",
      "1/1 [==============================] - 1s 962ms/step\n",
      "1/1 [==============================] - 1s 965ms/step\n",
      "1/1 [==============================] - 1s 968ms/step\n",
      "1/1 [==============================] - 1s 962ms/step\n",
      "1/1 [==============================] - 1s 967ms/step\n",
      "1/1 [==============================] - 1s 955ms/step\n",
      "1/1 [==============================] - 1s 958ms/step\n",
      "1/1 [==============================] - 1s 962ms/step\n",
      "1/1 [==============================] - 1s 956ms/step\n",
      "1/1 [==============================] - 1s 960ms/step\n",
      "1/1 [==============================] - 1s 959ms/step\n",
      "1/1 [==============================] - 1s 966ms/step\n",
      "1/1 [==============================] - 1s 564ms/step\n",
      "26/26 [==============================] - 144s 6s/step\n",
      "0.0008807367 1.0 1.0\n",
      "\n",
      " Epoch 26/50\n",
      "1/1 [==============================] - 1s 967ms/step\n",
      "1/1 [==============================] - 1s 970ms/step\n",
      "1/1 [==============================] - 1s 961ms/step\n",
      "1/1 [==============================] - 1s 979ms/step\n",
      "1/1 [==============================] - 1s 1s/step\n",
      "1/1 [==============================] - 1s 1s/step\n",
      "1/1 [==============================] - 1s 980ms/step\n",
      "1/1 [==============================] - 1s 1s/step\n",
      "1/1 [==============================] - 1s 1s/step\n",
      "1/1 [==============================] - 1s 1s/step\n",
      "1/1 [==============================] - 1s 969ms/step\n",
      "1/1 [==============================] - 1s 1s/step\n",
      "1/1 [==============================] - 1s 1s/step\n",
      "1/1 [==============================] - 1s 1000ms/step\n",
      "1/1 [==============================] - 1s 970ms/step\n",
      "1/1 [==============================] - 1s 1s/step\n",
      "1/1 [==============================] - 1s 1s/step\n",
      "1/1 [==============================] - 1s 964ms/step\n",
      "1/1 [==============================] - 1s 972ms/step\n",
      "1/1 [==============================] - 1s 960ms/step\n",
      "1/1 [==============================] - 1s 963ms/step\n",
      "1/1 [==============================] - 1s 959ms/step\n",
      "1/1 [==============================] - 1s 961ms/step\n",
      "1/1 [==============================] - 1s 961ms/step\n",
      "1/1 [==============================] - 1s 963ms/step\n",
      "1/1 [==============================] - 1s 549ms/step\n",
      "26/26 [==============================] - 148s 6s/step\n",
      "8.220737e-05 1.0 1.0\n",
      "\n",
      " Epoch 27/50\n",
      "1/1 [==============================] - 1s 971ms/step\n",
      "1/1 [==============================] - 1s 680ms/step\n",
      "1/1 [==============================] - 1s 708ms/step\n",
      "1/1 [==============================] - 1s 719ms/step\n",
      "1/1 [==============================] - 1s 735ms/step\n",
      "1/1 [==============================] - 1s 739ms/step\n",
      "1/1 [==============================] - 1s 771ms/step\n",
      "1/1 [==============================] - 1s 730ms/step\n",
      "1/1 [==============================] - 1s 729ms/step\n",
      "1/1 [==============================] - 1s 746ms/step\n",
      "1/1 [==============================] - 1s 784ms/step\n",
      "1/1 [==============================] - 1s 782ms/step\n",
      "1/1 [==============================] - 1s 755ms/step\n",
      "1/1 [==============================] - 1s 774ms/step\n",
      "1/1 [==============================] - 1s 779ms/step\n",
      "1/1 [==============================] - 1s 722ms/step\n",
      "1/1 [==============================] - 1s 756ms/step\n",
      "1/1 [==============================] - 1s 872ms/step\n",
      "1/1 [==============================] - 1s 753ms/step\n",
      "1/1 [==============================] - 1s 838ms/step\n",
      "1/1 [==============================] - 1s 777ms/step\n",
      "1/1 [==============================] - 1s 740ms/step\n",
      "1/1 [==============================] - 1s 739ms/step\n",
      "1/1 [==============================] - 1s 739ms/step\n",
      "1/1 [==============================] - 1s 748ms/step\n",
      "1/1 [==============================] - 0s 428ms/step\n",
      "26/26 [==============================] - 115s 4s/step\n",
      "0.00064929866 1.0 1.0\n",
      "\n",
      " Epoch 28/50\n",
      "1/1 [==============================] - 1s 734ms/step\n",
      "1/1 [==============================] - 1s 722ms/step\n",
      "1/1 [==============================] - 1s 759ms/step\n",
      "1/1 [==============================] - 1s 738ms/step\n",
      "1/1 [==============================] - 1s 735ms/step\n",
      "1/1 [==============================] - 1s 737ms/step\n",
      "1/1 [==============================] - 1s 758ms/step\n",
      "1/1 [==============================] - 1s 735ms/step\n",
      "1/1 [==============================] - 1s 731ms/step\n",
      "1/1 [==============================] - 1s 803ms/step\n",
      "1/1 [==============================] - 1s 736ms/step\n",
      "1/1 [==============================] - 1s 722ms/step\n",
      "1/1 [==============================] - 1s 758ms/step\n",
      "1/1 [==============================] - 1s 756ms/step\n",
      "1/1 [==============================] - 1s 731ms/step\n",
      "1/1 [==============================] - 1s 737ms/step\n",
      "1/1 [==============================] - 1s 762ms/step\n",
      "1/1 [==============================] - 1s 754ms/step\n",
      "1/1 [==============================] - 1s 729ms/step\n",
      "1/1 [==============================] - 1s 759ms/step\n",
      "1/1 [==============================] - 1s 742ms/step\n"
     ]
    },
    {
     "name": "stdout",
     "output_type": "stream",
     "text": [
      "1/1 [==============================] - 1s 758ms/step\n",
      "1/1 [==============================] - 1s 752ms/step\n",
      "1/1 [==============================] - 1s 752ms/step\n",
      "1/1 [==============================] - 1s 762ms/step\n",
      "1/1 [==============================] - 0s 435ms/step\n",
      "26/26 [==============================] - 113s 4s/step\n",
      "0.0010995975 1.0 1.0\n",
      "\n",
      " Epoch 29/50\n",
      "1/1 [==============================] - 1s 740ms/step\n",
      "1/1 [==============================] - 1s 735ms/step\n",
      "1/1 [==============================] - 1s 767ms/step\n",
      "1/1 [==============================] - 1s 721ms/step\n",
      "1/1 [==============================] - 1s 761ms/step\n",
      "1/1 [==============================] - 1s 765ms/step\n",
      "1/1 [==============================] - 1s 742ms/step\n",
      "1/1 [==============================] - 1s 738ms/step\n",
      "1/1 [==============================] - 1s 770ms/step\n",
      "1/1 [==============================] - 1s 786ms/step\n",
      "1/1 [==============================] - 1s 733ms/step\n",
      "1/1 [==============================] - 1s 751ms/step\n",
      "1/1 [==============================] - 1s 808ms/step\n",
      "1/1 [==============================] - 1s 742ms/step\n",
      "1/1 [==============================] - 1s 794ms/step\n",
      "1/1 [==============================] - 1s 725ms/step\n",
      "1/1 [==============================] - 1s 757ms/step\n",
      "1/1 [==============================] - 1s 758ms/step\n",
      "1/1 [==============================] - 1s 759ms/step\n",
      "1/1 [==============================] - 1s 798ms/step\n",
      "1/1 [==============================] - 1s 767ms/step\n",
      "1/1 [==============================] - 1s 738ms/step\n",
      "1/1 [==============================] - 1s 758ms/step\n",
      "1/1 [==============================] - 1s 758ms/step\n",
      "1/1 [==============================] - 1s 773ms/step\n",
      "1/1 [==============================] - 0s 469ms/step\n",
      "26/26 [==============================] - 116s 4s/step\n",
      "0.00026451162 1.0 1.0\n",
      "\n",
      " Epoch 30/50\n",
      "1/1 [==============================] - 1s 750ms/step\n",
      "1/1 [==============================] - 1s 777ms/step\n",
      "1/1 [==============================] - 1s 732ms/step\n",
      "1/1 [==============================] - 1s 761ms/step\n",
      "1/1 [==============================] - 1s 748ms/step\n",
      "1/1 [==============================] - 1s 787ms/step\n",
      "1/1 [==============================] - 1s 737ms/step\n",
      "1/1 [==============================] - 1s 789ms/step\n",
      "1/1 [==============================] - 1s 756ms/step\n",
      "1/1 [==============================] - 1s 741ms/step\n",
      "1/1 [==============================] - 1s 770ms/step\n",
      "1/1 [==============================] - 1s 796ms/step\n",
      "1/1 [==============================] - 1s 754ms/step\n",
      "1/1 [==============================] - 1s 760ms/step\n",
      "1/1 [==============================] - 1s 763ms/step\n",
      "1/1 [==============================] - 1s 778ms/step\n",
      "1/1 [==============================] - 1s 714ms/step\n",
      "1/1 [==============================] - 1s 774ms/step\n",
      "1/1 [==============================] - 1s 758ms/step\n",
      "1/1 [==============================] - 1s 743ms/step\n",
      "1/1 [==============================] - 1s 759ms/step\n",
      "1/1 [==============================] - 1s 733ms/step\n",
      "1/1 [==============================] - 1s 756ms/step\n",
      "1/1 [==============================] - 1s 735ms/step\n",
      "1/1 [==============================] - 1s 803ms/step\n",
      "1/1 [==============================] - 0s 439ms/step\n",
      "26/26 [==============================] - 115s 4s/step\n",
      "0.0004512933 1.0 1.0\n",
      "\n",
      " Epoch 31/50\n",
      "1/1 [==============================] - 1s 706ms/step\n",
      "1/1 [==============================] - 1s 779ms/step\n",
      "1/1 [==============================] - 1s 761ms/step\n",
      "1/1 [==============================] - 1s 774ms/step\n",
      "1/1 [==============================] - 1s 758ms/step\n",
      "1/1 [==============================] - 1s 807ms/step\n",
      "1/1 [==============================] - 1s 820ms/step\n",
      "1/1 [==============================] - 1s 761ms/step\n",
      "1/1 [==============================] - 1s 766ms/step\n",
      "1/1 [==============================] - 1s 763ms/step\n",
      "1/1 [==============================] - 1s 780ms/step\n",
      "1/1 [==============================] - 1s 729ms/step\n",
      "1/1 [==============================] - 1s 757ms/step\n",
      "1/1 [==============================] - 1s 728ms/step\n",
      "1/1 [==============================] - 1s 737ms/step\n",
      "1/1 [==============================] - 1s 743ms/step\n",
      "1/1 [==============================] - 1s 761ms/step\n",
      "1/1 [==============================] - 1s 765ms/step\n",
      "1/1 [==============================] - 1s 721ms/step\n",
      "1/1 [==============================] - 1s 758ms/step\n",
      "1/1 [==============================] - 1s 708ms/step\n",
      "1/1 [==============================] - 1s 882ms/step\n",
      "1/1 [==============================] - 1s 735ms/step\n",
      "1/1 [==============================] - 1s 744ms/step\n",
      "1/1 [==============================] - 1s 820ms/step\n",
      "1/1 [==============================] - 0s 498ms/step\n",
      "26/26 [==============================] - 115s 4s/step\n",
      "0.00026166276 1.0 1.0\n",
      "\n",
      " Epoch 32/50\n",
      "1/1 [==============================] - 1s 739ms/step\n",
      "1/1 [==============================] - 1s 745ms/step\n",
      "1/1 [==============================] - 1s 773ms/step\n",
      "1/1 [==============================] - 1s 770ms/step\n",
      "1/1 [==============================] - 1s 719ms/step\n",
      "1/1 [==============================] - 1s 785ms/step\n",
      "1/1 [==============================] - 1s 753ms/step\n",
      "1/1 [==============================] - 1s 724ms/step\n",
      "1/1 [==============================] - 1s 759ms/step\n",
      "1/1 [==============================] - 1s 801ms/step\n",
      "1/1 [==============================] - 1s 763ms/step\n",
      "1/1 [==============================] - 1s 736ms/step\n",
      "1/1 [==============================] - 1s 761ms/step\n",
      "1/1 [==============================] - 1s 809ms/step\n",
      "1/1 [==============================] - 1s 752ms/step\n",
      "1/1 [==============================] - 1s 741ms/step\n",
      "1/1 [==============================] - 1s 769ms/step\n",
      "1/1 [==============================] - 1s 734ms/step\n",
      "1/1 [==============================] - 1s 751ms/step\n",
      "1/1 [==============================] - 1s 766ms/step\n",
      "1/1 [==============================] - 1s 771ms/step\n",
      "1/1 [==============================] - 1s 730ms/step\n",
      "1/1 [==============================] - 1s 752ms/step\n",
      "1/1 [==============================] - 1s 743ms/step\n",
      "1/1 [==============================] - 1s 765ms/step\n",
      "1/1 [==============================] - 0s 433ms/step\n",
      "26/26 [==============================] - 115s 4s/step\n",
      "4.165408e-05 1.0 1.0\n",
      "\n",
      " Epoch 33/50\n",
      "1/1 [==============================] - 1s 736ms/step\n",
      "1/1 [==============================] - 1s 810ms/step\n",
      "1/1 [==============================] - 1s 739ms/step\n",
      "1/1 [==============================] - 1s 759ms/step\n",
      "1/1 [==============================] - 1s 752ms/step\n",
      "1/1 [==============================] - 1s 761ms/step\n",
      "1/1 [==============================] - 1s 790ms/step\n",
      "1/1 [==============================] - 1s 768ms/step\n",
      "1/1 [==============================] - 1s 718ms/step\n",
      "1/1 [==============================] - 1s 784ms/step\n",
      "1/1 [==============================] - 1s 740ms/step\n",
      "1/1 [==============================] - 1s 757ms/step\n",
      "1/1 [==============================] - 1s 783ms/step\n",
      "1/1 [==============================] - 1s 788ms/step\n",
      "1/1 [==============================] - 1s 764ms/step\n",
      "1/1 [==============================] - 1s 758ms/step\n",
      "1/1 [==============================] - 1s 784ms/step\n",
      "1/1 [==============================] - 1s 760ms/step\n",
      "1/1 [==============================] - 1s 774ms/step\n",
      "1/1 [==============================] - 1s 829ms/step\n",
      "1/1 [==============================] - 1s 802ms/step\n",
      "1/1 [==============================] - 1s 756ms/step\n",
      "1/1 [==============================] - 1s 733ms/step\n",
      "1/1 [==============================] - 1s 799ms/step\n",
      "1/1 [==============================] - 1s 732ms/step\n",
      "1/1 [==============================] - 0s 445ms/step\n",
      "26/26 [==============================] - 116s 4s/step\n",
      "0.0001667705 1.0 1.0\n",
      "\n",
      " Epoch 34/50\n",
      "1/1 [==============================] - 1s 765ms/step\n",
      "1/1 [==============================] - 1s 813ms/step\n",
      "1/1 [==============================] - 1s 801ms/step\n",
      "1/1 [==============================] - 1s 762ms/step\n",
      "1/1 [==============================] - 1s 742ms/step\n",
      "1/1 [==============================] - 1s 810ms/step\n",
      "1/1 [==============================] - 1s 758ms/step\n",
      "1/1 [==============================] - 1s 784ms/step\n",
      "1/1 [==============================] - 1s 765ms/step\n"
     ]
    },
    {
     "name": "stdout",
     "output_type": "stream",
     "text": [
      "1/1 [==============================] - 1s 769ms/step\n",
      "1/1 [==============================] - 1s 755ms/step\n",
      "1/1 [==============================] - 1s 773ms/step\n",
      "1/1 [==============================] - 1s 754ms/step\n",
      "1/1 [==============================] - 1s 819ms/step\n",
      "1/1 [==============================] - 1s 787ms/step\n",
      "1/1 [==============================] - 1s 794ms/step\n",
      "1/1 [==============================] - 1s 789ms/step\n",
      "1/1 [==============================] - 1s 783ms/step\n",
      "1/1 [==============================] - 1s 791ms/step\n",
      "1/1 [==============================] - 1s 837ms/step\n",
      "1/1 [==============================] - 1s 780ms/step\n",
      "1/1 [==============================] - 1s 753ms/step\n",
      "1/1 [==============================] - 1s 754ms/step\n",
      "1/1 [==============================] - 1s 764ms/step\n",
      "1/1 [==============================] - 1s 758ms/step\n",
      "1/1 [==============================] - 0s 440ms/step\n",
      "26/26 [==============================] - 117s 4s/step\n",
      "1.5170454e-05 1.0 1.0\n",
      "\n",
      " Epoch 35/50\n",
      "1/1 [==============================] - 1s 785ms/step\n",
      "1/1 [==============================] - 1s 786ms/step\n",
      "1/1 [==============================] - 1s 835ms/step\n",
      "1/1 [==============================] - 1s 790ms/step\n",
      "1/1 [==============================] - 1s 781ms/step\n",
      "1/1 [==============================] - 1s 757ms/step\n",
      "1/1 [==============================] - 1s 756ms/step\n",
      "1/1 [==============================] - 1s 780ms/step\n",
      "1/1 [==============================] - 1s 789ms/step\n",
      "1/1 [==============================] - 1s 797ms/step\n",
      "1/1 [==============================] - 1s 782ms/step\n",
      "1/1 [==============================] - 1s 812ms/step\n",
      "1/1 [==============================] - 1s 805ms/step\n",
      "1/1 [==============================] - 1s 809ms/step\n",
      "1/1 [==============================] - 1s 782ms/step\n",
      "1/1 [==============================] - 1s 763ms/step\n",
      "1/1 [==============================] - 1s 753ms/step\n",
      "1/1 [==============================] - 1s 758ms/step\n",
      "1/1 [==============================] - 1s 763ms/step\n",
      "1/1 [==============================] - 1s 763ms/step\n",
      "1/1 [==============================] - 1s 779ms/step\n",
      "1/1 [==============================] - 1s 779ms/step\n",
      "1/1 [==============================] - 1s 796ms/step\n",
      "1/1 [==============================] - 1s 780ms/step\n",
      "1/1 [==============================] - 1s 782ms/step\n",
      "1/1 [==============================] - 0s 452ms/step\n",
      "26/26 [==============================] - 118s 5s/step\n",
      "2.899979e-05 1.0 1.0\n",
      "\n",
      " Epoch 36/50\n",
      "1/1 [==============================] - 1s 785ms/step\n",
      "1/1 [==============================] - 1s 761ms/step\n",
      "1/1 [==============================] - 1s 766ms/step\n",
      "1/1 [==============================] - 1s 762ms/step\n",
      "1/1 [==============================] - 1s 755ms/step\n",
      "1/1 [==============================] - 1s 770ms/step\n",
      "1/1 [==============================] - 1s 789ms/step\n",
      "1/1 [==============================] - 1s 781ms/step\n",
      "1/1 [==============================] - 1s 803ms/step\n",
      "1/1 [==============================] - 1s 778ms/step\n",
      "1/1 [==============================] - 1s 791ms/step\n",
      "1/1 [==============================] - 1s 760ms/step\n",
      "1/1 [==============================] - 1s 773ms/step\n",
      "1/1 [==============================] - 1s 761ms/step\n",
      "1/1 [==============================] - 1s 757ms/step\n",
      "1/1 [==============================] - 1s 786ms/step\n",
      "1/1 [==============================] - 1s 791ms/step\n",
      "1/1 [==============================] - 1s 777ms/step\n",
      "1/1 [==============================] - 1s 781ms/step\n",
      "1/1 [==============================] - 1s 816ms/step\n",
      "1/1 [==============================] - 1s 782ms/step\n",
      "1/1 [==============================] - 1s 760ms/step\n",
      "1/1 [==============================] - 1s 759ms/step\n",
      "1/1 [==============================] - 1s 763ms/step\n",
      "1/1 [==============================] - 1s 806ms/step\n",
      "1/1 [==============================] - 0s 448ms/step\n",
      "26/26 [==============================] - 117s 4s/step\n",
      "0.0002434178 1.0 1.0\n",
      "\n",
      " Epoch 37/50\n",
      "1/1 [==============================] - 1s 786ms/step\n",
      "1/1 [==============================] - 1s 837ms/step\n",
      "1/1 [==============================] - 1s 788ms/step\n",
      "1/1 [==============================] - 1s 784ms/step\n",
      "1/1 [==============================] - 1s 826ms/step\n",
      "1/1 [==============================] - 1s 790ms/step\n",
      "1/1 [==============================] - 1s 782ms/step\n",
      "1/1 [==============================] - 1s 837ms/step\n",
      "1/1 [==============================] - 1s 818ms/step\n",
      "1/1 [==============================] - 1s 838ms/step\n",
      "1/1 [==============================] - 1s 783ms/step\n",
      "1/1 [==============================] - 1s 789ms/step\n",
      "1/1 [==============================] - 1s 787ms/step\n",
      "1/1 [==============================] - 1s 782ms/step\n",
      "1/1 [==============================] - 1s 848ms/step\n",
      "1/1 [==============================] - 1s 782ms/step\n",
      "1/1 [==============================] - 1s 840ms/step\n",
      "1/1 [==============================] - 1s 796ms/step\n",
      "1/1 [==============================] - 1s 783ms/step\n",
      "1/1 [==============================] - 1s 781ms/step\n",
      "1/1 [==============================] - 1s 792ms/step\n",
      "1/1 [==============================] - 1s 811ms/step\n",
      "1/1 [==============================] - 1s 792ms/step\n",
      "1/1 [==============================] - 1s 783ms/step\n",
      "1/1 [==============================] - 1s 995ms/step\n",
      "1/1 [==============================] - 0s 490ms/step\n",
      "26/26 [==============================] - 121s 5s/step\n",
      "6.0645416e-05 1.0 1.0\n",
      "\n",
      " Epoch 38/50\n",
      "1/1 [==============================] - 1s 945ms/step\n",
      "1/1 [==============================] - 1s 840ms/step\n",
      "1/1 [==============================] - 1s 791ms/step\n",
      "1/1 [==============================] - 1s 844ms/step\n",
      "1/1 [==============================] - 1s 785ms/step\n",
      "1/1 [==============================] - 1s 761ms/step\n",
      "1/1 [==============================] - 1s 751ms/step\n",
      "1/1 [==============================] - 1s 761ms/step\n",
      "1/1 [==============================] - 1s 761ms/step\n",
      "1/1 [==============================] - 1s 804ms/step\n",
      "1/1 [==============================] - 1s 783ms/step\n",
      "1/1 [==============================] - 1s 787ms/step\n",
      "1/1 [==============================] - 1s 780ms/step\n",
      "1/1 [==============================] - 1s 780ms/step\n",
      "1/1 [==============================] - 1s 783ms/step\n",
      "1/1 [==============================] - 1s 783ms/step\n",
      "1/1 [==============================] - 1s 784ms/step\n",
      "1/1 [==============================] - 1s 784ms/step\n",
      "1/1 [==============================] - 1s 781ms/step\n",
      "1/1 [==============================] - 1s 778ms/step\n",
      "1/1 [==============================] - 1s 781ms/step\n",
      "1/1 [==============================] - 1s 781ms/step\n",
      "1/1 [==============================] - 1s 835ms/step\n",
      "1/1 [==============================] - 1s 783ms/step\n",
      "1/1 [==============================] - 1s 808ms/step\n",
      "1/1 [==============================] - 0s 453ms/step\n",
      "26/26 [==============================] - 119s 5s/step\n",
      "3.0229185e-05 1.0 1.0\n",
      "\n",
      " Epoch 39/50\n",
      "1/1 [==============================] - 1s 782ms/step\n",
      "1/1 [==============================] - 1s 775ms/step\n",
      "1/1 [==============================] - 1s 780ms/step\n",
      "1/1 [==============================] - 1s 808ms/step\n",
      "1/1 [==============================] - 1s 862ms/step\n",
      "1/1 [==============================] - 1s 806ms/step\n",
      "1/1 [==============================] - 1s 805ms/step\n",
      "1/1 [==============================] - 1s 778ms/step\n",
      "1/1 [==============================] - 1s 777ms/step\n",
      "1/1 [==============================] - 1s 776ms/step\n",
      "1/1 [==============================] - 1s 774ms/step\n",
      "1/1 [==============================] - 1s 783ms/step\n",
      "1/1 [==============================] - 1s 785ms/step\n",
      "1/1 [==============================] - 1s 791ms/step\n",
      "1/1 [==============================] - 1s 784ms/step\n",
      "1/1 [==============================] - 1s 785ms/step\n",
      "1/1 [==============================] - 1s 787ms/step\n",
      "1/1 [==============================] - 1s 786ms/step\n",
      "1/1 [==============================] - 1s 820ms/step\n",
      "1/1 [==============================] - 1s 803ms/step\n",
      "1/1 [==============================] - 1s 827ms/step\n",
      "1/1 [==============================] - 1s 1s/step\n",
      "1/1 [==============================] - 1s 909ms/step\n",
      "1/1 [==============================] - 1s 947ms/step\n",
      "1/1 [==============================] - 1s 1s/step\n"
     ]
    },
    {
     "name": "stdout",
     "output_type": "stream",
     "text": [
      "1/1 [==============================] - 1s 506ms/step\n",
      "26/26 [==============================] - 124s 5s/step\n",
      "0.00036504326 1.0 1.0\n",
      "\n",
      " Epoch 40/50\n",
      "1/1 [==============================] - 1s 839ms/step\n",
      "1/1 [==============================] - 1s 808ms/step\n",
      "1/1 [==============================] - 1s 777ms/step\n",
      "1/1 [==============================] - 1s 842ms/step\n",
      "1/1 [==============================] - 1s 782ms/step\n",
      "1/1 [==============================] - 1s 790ms/step\n",
      "1/1 [==============================] - 1s 787ms/step\n",
      "1/1 [==============================] - 1s 813ms/step\n",
      "1/1 [==============================] - 1s 871ms/step\n",
      "1/1 [==============================] - 1s 789ms/step\n",
      "1/1 [==============================] - 1s 789ms/step\n",
      "1/1 [==============================] - 1s 781ms/step\n",
      "1/1 [==============================] - 1s 807ms/step\n",
      "1/1 [==============================] - 1s 808ms/step\n",
      "1/1 [==============================] - 1s 812ms/step\n",
      "1/1 [==============================] - 1s 811ms/step\n",
      "1/1 [==============================] - 1s 787ms/step\n",
      "1/1 [==============================] - 1s 784ms/step\n",
      "1/1 [==============================] - 1s 788ms/step\n",
      "1/1 [==============================] - 1s 814ms/step\n",
      "1/1 [==============================] - 1s 811ms/step\n",
      "1/1 [==============================] - 1s 807ms/step\n",
      "1/1 [==============================] - 1s 810ms/step\n",
      "1/1 [==============================] - 1s 866ms/step\n",
      "1/1 [==============================] - 1s 787ms/step\n",
      "1/1 [==============================] - 1s 508ms/step\n",
      "26/26 [==============================] - 121s 5s/step\n",
      "7.875639e-05 1.0 1.0\n",
      "\n",
      " Epoch 41/50\n",
      "1/1 [==============================] - 1s 722ms/step\n",
      "1/1 [==============================] - 1s 748ms/step\n",
      "1/1 [==============================] - 1s 788ms/step\n",
      "1/1 [==============================] - 1s 782ms/step\n",
      "1/1 [==============================] - 1s 814ms/step\n",
      "1/1 [==============================] - 1s 825ms/step\n",
      "1/1 [==============================] - 1s 820ms/step\n",
      "1/1 [==============================] - 1s 810ms/step\n",
      "1/1 [==============================] - 1s 813ms/step\n",
      "1/1 [==============================] - 1s 808ms/step\n",
      "1/1 [==============================] - 1s 785ms/step\n",
      "1/1 [==============================] - 1s 786ms/step\n",
      "1/1 [==============================] - 1s 783ms/step\n",
      "1/1 [==============================] - 1s 787ms/step\n",
      "1/1 [==============================] - 1s 806ms/step\n",
      "1/1 [==============================] - 1s 835ms/step\n",
      "1/1 [==============================] - 1s 819ms/step\n",
      "1/1 [==============================] - 1s 810ms/step\n",
      "1/1 [==============================] - 1s 813ms/step\n",
      "1/1 [==============================] - 1s 804ms/step\n",
      "1/1 [==============================] - 1s 777ms/step\n",
      "1/1 [==============================] - 1s 779ms/step\n",
      "1/1 [==============================] - 1s 780ms/step\n",
      "1/1 [==============================] - 1s 820ms/step\n",
      "1/1 [==============================] - 1s 781ms/step\n",
      "1/1 [==============================] - 0s 449ms/step\n",
      "26/26 [==============================] - 120s 5s/step\n",
      "0.00027739952 1.0 1.0\n",
      "\n",
      " Epoch 42/50\n",
      "1/1 [==============================] - 1s 783ms/step\n",
      "1/1 [==============================] - 1s 780ms/step\n",
      "1/1 [==============================] - 1s 793ms/step\n",
      "1/1 [==============================] - 1s 834ms/step\n",
      "1/1 [==============================] - 1s 841ms/step\n",
      "1/1 [==============================] - 1s 808ms/step\n",
      "1/1 [==============================] - 1s 808ms/step\n",
      "1/1 [==============================] - 1s 856ms/step\n",
      "1/1 [==============================] - 1s 878ms/step\n",
      "1/1 [==============================] - 1s 916ms/step\n",
      "1/1 [==============================] - 1s 941ms/step\n",
      "1/1 [==============================] - 1s 867ms/step\n",
      "1/1 [==============================] - 1s 887ms/step\n",
      "1/1 [==============================] - 1s 848ms/step\n",
      "1/1 [==============================] - 1s 804ms/step\n",
      "1/1 [==============================] - 1s 794ms/step\n",
      "1/1 [==============================] - 1s 834ms/step\n",
      "1/1 [==============================] - 1s 791ms/step\n",
      "1/1 [==============================] - 1s 795ms/step\n",
      "1/1 [==============================] - 1s 784ms/step\n",
      "1/1 [==============================] - 1s 831ms/step\n",
      "1/1 [==============================] - 1s 808ms/step\n",
      "1/1 [==============================] - 1s 846ms/step\n",
      "1/1 [==============================] - 1s 892ms/step\n",
      "1/1 [==============================] - 1s 859ms/step\n",
      "1/1 [==============================] - 1s 516ms/step\n",
      "26/26 [==============================] - 126s 5s/step\n",
      "6.8354384e-05 1.0 1.0\n",
      "\n",
      " Epoch 43/50\n",
      "1/1 [==============================] - 1s 868ms/step\n",
      "1/1 [==============================] - 1s 837ms/step\n",
      "1/1 [==============================] - 1s 846ms/step\n",
      "1/1 [==============================] - 1s 814ms/step\n",
      "1/1 [==============================] - 1s 783ms/step\n",
      "1/1 [==============================] - 1s 819ms/step\n",
      "1/1 [==============================] - 1s 827ms/step\n",
      "1/1 [==============================] - 1s 887ms/step\n",
      "1/1 [==============================] - 1s 837ms/step\n",
      "1/1 [==============================] - 1s 833ms/step\n",
      "1/1 [==============================] - 1s 891ms/step\n",
      "1/1 [==============================] - 1s 845ms/step\n",
      "1/1 [==============================] - 1s 839ms/step\n",
      "1/1 [==============================] - 1s 870ms/step\n",
      "1/1 [==============================] - 1s 924ms/step\n",
      "1/1 [==============================] - 1s 887ms/step\n",
      "1/1 [==============================] - 1s 856ms/step\n",
      "1/1 [==============================] - 1s 857ms/step\n",
      "1/1 [==============================] - 1s 1s/step\n",
      "1/1 [==============================] - 1s 869ms/step\n",
      "1/1 [==============================] - 1s 865ms/step\n",
      "1/1 [==============================] - 1s 910ms/step\n",
      "1/1 [==============================] - 1s 872ms/step\n",
      "1/1 [==============================] - 1s 835ms/step\n",
      "1/1 [==============================] - 1s 782ms/step\n",
      "1/1 [==============================] - 0s 478ms/step\n",
      "26/26 [==============================] - 129s 5s/step\n",
      "0.00019712231 1.0 1.0\n",
      "\n",
      " Epoch 44/50\n",
      "1/1 [==============================] - 1s 878ms/step\n",
      "1/1 [==============================] - 1s 903ms/step\n",
      "1/1 [==============================] - 1s 892ms/step\n",
      "1/1 [==============================] - 1s 860ms/step\n",
      "1/1 [==============================] - 1s 869ms/step\n",
      "1/1 [==============================] - 1s 898ms/step\n",
      "1/1 [==============================] - 1s 841ms/step\n",
      "1/1 [==============================] - 1s 816ms/step\n",
      "1/1 [==============================] - 1s 857ms/step\n",
      "1/1 [==============================] - 1s 827ms/step\n",
      "1/1 [==============================] - 1s 856ms/step\n",
      "1/1 [==============================] - 1s 998ms/step\n",
      "1/1 [==============================] - 1s 935ms/step\n",
      "1/1 [==============================] - 1s 932ms/step\n",
      "1/1 [==============================] - 1s 923ms/step\n",
      "1/1 [==============================] - 1s 835ms/step\n",
      "1/1 [==============================] - 1s 841ms/step\n",
      "1/1 [==============================] - 1s 847ms/step\n",
      "1/1 [==============================] - 1s 837ms/step\n",
      "1/1 [==============================] - 1s 841ms/step\n",
      "1/1 [==============================] - 1s 811ms/step\n",
      "1/1 [==============================] - 1s 860ms/step\n",
      "1/1 [==============================] - 1s 856ms/step\n",
      "1/1 [==============================] - 1s 880ms/step\n",
      "1/1 [==============================] - 1s 856ms/step\n",
      "1/1 [==============================] - 0s 498ms/step\n",
      "26/26 [==============================] - 131s 5s/step\n",
      "9.7576685e-06 1.0 1.0\n",
      "\n",
      " Epoch 45/50\n",
      "1/1 [==============================] - 1s 840ms/step\n",
      "1/1 [==============================] - 1s 1s/step\n",
      "1/1 [==============================] - 1s 876ms/step\n",
      "1/1 [==============================] - 1s 903ms/step\n",
      "1/1 [==============================] - 1s 894ms/step\n",
      "1/1 [==============================] - 1s 926ms/step\n",
      "1/1 [==============================] - 1s 968ms/step\n",
      "1/1 [==============================] - 1s 864ms/step\n",
      "1/1 [==============================] - 1s 832ms/step\n",
      "1/1 [==============================] - 1s 838ms/step\n",
      "1/1 [==============================] - 1s 833ms/step\n",
      "1/1 [==============================] - 1s 851ms/step\n",
      "1/1 [==============================] - 1s 840ms/step\n"
     ]
    },
    {
     "name": "stdout",
     "output_type": "stream",
     "text": [
      "1/1 [==============================] - 1s 833ms/step\n",
      "1/1 [==============================] - 1s 837ms/step\n",
      "1/1 [==============================] - 1s 819ms/step\n",
      "1/1 [==============================] - 1s 816ms/step\n",
      "1/1 [==============================] - 1s 825ms/step\n",
      "1/1 [==============================] - 1s 858ms/step\n",
      "1/1 [==============================] - 1s 821ms/step\n",
      "1/1 [==============================] - 1s 839ms/step\n",
      "1/1 [==============================] - 1s 869ms/step\n",
      "1/1 [==============================] - 1s 808ms/step\n",
      "1/1 [==============================] - 1s 815ms/step\n",
      "1/1 [==============================] - 1s 838ms/step\n",
      "1/1 [==============================] - 1s 559ms/step\n",
      "26/26 [==============================] - 130s 5s/step\n",
      "3.1601234e-05 1.0 1.0\n",
      "\n",
      " Epoch 46/50\n",
      "1/1 [==============================] - 1s 884ms/step\n",
      "1/1 [==============================] - 1s 870ms/step\n",
      "1/1 [==============================] - 1s 901ms/step\n",
      "1/1 [==============================] - 1s 818ms/step\n",
      "1/1 [==============================] - 1s 822ms/step\n",
      "1/1 [==============================] - 1s 834ms/step\n",
      "1/1 [==============================] - 1s 880ms/step\n",
      "1/1 [==============================] - 1s 810ms/step\n",
      "1/1 [==============================] - 1s 806ms/step\n",
      "1/1 [==============================] - 1s 882ms/step\n",
      "1/1 [==============================] - 1s 803ms/step\n",
      "1/1 [==============================] - 1s 810ms/step\n",
      "1/1 [==============================] - 1s 844ms/step\n",
      "1/1 [==============================] - 1s 825ms/step\n",
      "1/1 [==============================] - 1s 853ms/step\n",
      "1/1 [==============================] - 1s 827ms/step\n",
      "1/1 [==============================] - 1s 792ms/step\n",
      "1/1 [==============================] - 1s 785ms/step\n",
      "1/1 [==============================] - 1s 787ms/step\n",
      "1/1 [==============================] - 1s 781ms/step\n",
      "1/1 [==============================] - 1s 801ms/step\n",
      "1/1 [==============================] - 1s 849ms/step\n",
      "1/1 [==============================] - 1s 851ms/step\n",
      "1/1 [==============================] - 1s 852ms/step\n",
      "1/1 [==============================] - 1s 823ms/step\n",
      "1/1 [==============================] - 0s 486ms/step\n",
      "26/26 [==============================] - 125s 5s/step\n",
      "5.147801e-05 1.0 1.0\n",
      "\n",
      " Epoch 47/50\n",
      "1/1 [==============================] - 1s 835ms/step\n",
      "1/1 [==============================] - 1s 834ms/step\n",
      "1/1 [==============================] - 1s 832ms/step\n",
      "1/1 [==============================] - 1s 833ms/step\n",
      "1/1 [==============================] - 1s 883ms/step\n",
      "1/1 [==============================] - 1s 808ms/step\n",
      "1/1 [==============================] - 1s 910ms/step\n",
      "1/1 [==============================] - 1s 843ms/step\n",
      "1/1 [==============================] - 1s 854ms/step\n",
      "1/1 [==============================] - 1s 944ms/step\n",
      "1/1 [==============================] - 1s 833ms/step\n",
      "1/1 [==============================] - 1s 863ms/step\n",
      "1/1 [==============================] - 1s 849ms/step\n",
      "1/1 [==============================] - 1s 854ms/step\n",
      "1/1 [==============================] - 1s 985ms/step\n",
      "1/1 [==============================] - 1s 856ms/step\n",
      "1/1 [==============================] - 1s 847ms/step\n",
      "1/1 [==============================] - 1s 845ms/step\n",
      "1/1 [==============================] - 1s 1s/step\n",
      "1/1 [==============================] - 1s 861ms/step\n",
      "1/1 [==============================] - 1s 836ms/step\n",
      "1/1 [==============================] - 1s 844ms/step\n",
      "1/1 [==============================] - 1s 917ms/step\n",
      "1/1 [==============================] - 1s 1s/step\n",
      "1/1 [==============================] - 1s 857ms/step\n",
      "1/1 [==============================] - 1s 514ms/step\n",
      "26/26 [==============================] - 131s 5s/step\n",
      "2.4827674e-05 1.0 1.0\n",
      "\n",
      " Epoch 48/50\n",
      "1/1 [==============================] - 1s 833ms/step\n",
      "1/1 [==============================] - 1s 908ms/step\n",
      "1/1 [==============================] - 1s 849ms/step\n",
      "1/1 [==============================] - 1s 821ms/step\n",
      "1/1 [==============================] - 1s 826ms/step\n",
      "1/1 [==============================] - 1s 869ms/step\n",
      "1/1 [==============================] - 1s 877ms/step\n",
      "1/1 [==============================] - 1s 857ms/step\n",
      "1/1 [==============================] - 1s 857ms/step\n",
      "1/1 [==============================] - 1s 853ms/step\n",
      "1/1 [==============================] - 1s 869ms/step\n",
      "1/1 [==============================] - 1s 828ms/step\n",
      "1/1 [==============================] - 1s 814ms/step\n",
      "1/1 [==============================] - 1s 818ms/step\n",
      "1/1 [==============================] - 1s 835ms/step\n",
      "1/1 [==============================] - 1s 845ms/step\n",
      "1/1 [==============================] - 1s 851ms/step\n",
      "1/1 [==============================] - 1s 860ms/step\n",
      "1/1 [==============================] - 1s 905ms/step\n",
      "1/1 [==============================] - 1s 850ms/step\n",
      "1/1 [==============================] - 1s 859ms/step\n",
      "1/1 [==============================] - 1s 873ms/step\n",
      "1/1 [==============================] - 1s 789ms/step\n",
      "1/1 [==============================] - 1s 779ms/step\n",
      "1/1 [==============================] - 1s 780ms/step\n",
      "1/1 [==============================] - 0s 456ms/step\n",
      "26/26 [==============================] - 126s 5s/step\n",
      "0.0001451413 1.0 1.0\n",
      "\n",
      " Epoch 49/50\n",
      "1/1 [==============================] - 1s 801ms/step\n",
      "1/1 [==============================] - 1s 807ms/step\n",
      "1/1 [==============================] - 1s 803ms/step\n",
      "1/1 [==============================] - 1s 787ms/step\n",
      "1/1 [==============================] - 1s 779ms/step\n",
      "1/1 [==============================] - 1s 790ms/step\n",
      "1/1 [==============================] - 1s 851ms/step\n",
      "1/1 [==============================] - 1s 838ms/step\n",
      "1/1 [==============================] - 1s 882ms/step\n",
      "1/1 [==============================] - 1s 876ms/step\n",
      "1/1 [==============================] - 1s 871ms/step\n",
      "1/1 [==============================] - 1s 860ms/step\n",
      "1/1 [==============================] - 1s 881ms/step\n",
      "1/1 [==============================] - 1s 897ms/step\n",
      "1/1 [==============================] - 1s 842ms/step\n",
      "1/1 [==============================] - 1s 910ms/step\n",
      "1/1 [==============================] - 1s 835ms/step\n",
      "1/1 [==============================] - 1s 911ms/step\n",
      "1/1 [==============================] - 1s 837ms/step\n",
      "1/1 [==============================] - 1s 875ms/step\n",
      "1/1 [==============================] - 1s 833ms/step\n",
      "1/1 [==============================] - 1s 801ms/step\n",
      "1/1 [==============================] - 1s 913ms/step\n",
      "1/1 [==============================] - 1s 850ms/step\n",
      "1/1 [==============================] - 1s 867ms/step\n",
      "1/1 [==============================] - 1s 510ms/step\n",
      "26/26 [==============================] - 127s 5s/step\n",
      "8.797877e-06 1.0 1.0\n",
      "\n",
      " Epoch 50/50\n",
      "1/1 [==============================] - 1s 834ms/step\n",
      "1/1 [==============================] - 1s 838ms/step\n",
      "1/1 [==============================] - 1s 828ms/step\n",
      "1/1 [==============================] - 1s 839ms/step\n",
      "1/1 [==============================] - 1s 846ms/step\n",
      "1/1 [==============================] - 1s 958ms/step\n",
      "1/1 [==============================] - 1s 1s/step\n",
      "1/1 [==============================] - 1s 874ms/step\n",
      "1/1 [==============================] - 1s 869ms/step\n",
      "1/1 [==============================] - 1s 937ms/step\n",
      "1/1 [==============================] - 1s 882ms/step\n",
      "1/1 [==============================] - 1s 877ms/step\n",
      "1/1 [==============================] - 1s 906ms/step\n",
      "1/1 [==============================] - 1s 854ms/step\n",
      "1/1 [==============================] - 1s 843ms/step\n",
      "1/1 [==============================] - 1s 875ms/step\n",
      "1/1 [==============================] - 1s 853ms/step\n",
      "1/1 [==============================] - 1s 848ms/step\n",
      "1/1 [==============================] - 1s 864ms/step\n",
      "1/1 [==============================] - 1s 853ms/step\n",
      "1/1 [==============================] - 1s 853ms/step\n",
      "1/1 [==============================] - 1s 879ms/step\n",
      "1/1 [==============================] - 1s 926ms/step\n",
      "1/1 [==============================] - 1s 857ms/step\n",
      "1/1 [==============================] - 1s 887ms/step\n",
      "1/1 [==============================] - 1s 514ms/step\n",
      "26/26 [==============================] - 132s 5s/step\n",
      "2.9299734e-05 1.0 1.0\n"
     ]
    }
   ],
   "source": [
    "train(train_data, EPOCHS)"
   ]
  },
  {
   "cell_type": "markdown",
   "id": "bef99253",
   "metadata": {},
   "source": [
    "## Evaluate Model"
   ]
  },
  {
   "cell_type": "markdown",
   "id": "2db49926",
   "metadata": {},
   "source": [
    "## 6.1 Import Metrics"
   ]
  },
  {
   "cell_type": "code",
   "execution_count": 73,
   "id": "d313a30a",
   "metadata": {},
   "outputs": [],
   "source": [
    "# Import metric calculation\n",
    "from tensorflow.keras.metrics import Precision, Recall"
   ]
  },
  {
   "cell_type": "code",
   "execution_count": 74,
   "id": "9208ff71",
   "metadata": {},
   "outputs": [],
   "source": [
    "# Get test data\n",
    "\n",
    "#convert tensorflow dataset into a numpy iterator\n",
    "test_input, test_val, y_true = test_data.as_numpy_iterator().next()"
   ]
  },
  {
   "cell_type": "markdown",
   "id": "3456793d",
   "metadata": {},
   "source": [
    "## 6.2 Make Predictions"
   ]
  },
  {
   "cell_type": "code",
   "execution_count": 75,
   "id": "27298e90",
   "metadata": {},
   "outputs": [
    {
     "name": "stdout",
     "output_type": "stream",
     "text": [
      "1/1 [==============================] - 1s 1s/step\n"
     ]
    },
    {
     "data": {
      "text/plain": [
       "array([[1.8690688e-08],\n",
       "       [4.1195665e-09],\n",
       "       [2.5123970e-09],\n",
       "       [9.9995482e-01],\n",
       "       [1.9710579e-10],\n",
       "       [1.7667279e-09],\n",
       "       [1.0000000e+00],\n",
       "       [1.7138091e-09],\n",
       "       [9.9999523e-01],\n",
       "       [1.7381609e-08],\n",
       "       [2.4356348e-07],\n",
       "       [9.9998111e-01],\n",
       "       [9.9936241e-01],\n",
       "       [9.9998558e-01],\n",
       "       [9.7768137e-08],\n",
       "       [1.0000000e+00]], dtype=float32)"
      ]
     },
     "execution_count": 75,
     "metadata": {},
     "output_type": "execute_result"
    }
   ],
   "source": [
    "# Making predictions\n",
    "y_hat = siamese_model.predict([test_input, test_val])\n",
    "y_hat"
   ]
  },
  {
   "cell_type": "code",
   "execution_count": 87,
   "id": "48453252",
   "metadata": {},
   "outputs": [
    {
     "data": {
      "text/plain": [
       "[0, 0, 0, 1, 0, 0, 1, 0, 1, 0, 0, 1, 1, 1, 0, 1]"
      ]
     },
     "execution_count": 87,
     "metadata": {},
     "output_type": "execute_result"
    }
   ],
   "source": [
    "# Post processing the results\n",
    "[1 if prediction > 0.7 else 0 for prediction in y_hat]"
   ]
  },
  {
   "cell_type": "code",
   "execution_count": 88,
   "id": "9568718f",
   "metadata": {},
   "outputs": [
    {
     "data": {
      "text/plain": [
       "array([0., 0., 0., 1., 0., 0., 1., 0., 1., 0., 0., 1., 1., 1., 0., 1.],\n",
       "      dtype=float32)"
      ]
     },
     "execution_count": 88,
     "metadata": {},
     "output_type": "execute_result"
    }
   ],
   "source": [
    "y_true"
   ]
  },
  {
   "cell_type": "markdown",
   "id": "2ad14144",
   "metadata": {},
   "source": [
    "## 6.3 Calculation Metrics"
   ]
  },
  {
   "cell_type": "code",
   "execution_count": 90,
   "id": "6c689572",
   "metadata": {},
   "outputs": [
    {
     "data": {
      "text/plain": [
       "1.0"
      ]
     },
     "execution_count": 90,
     "metadata": {},
     "output_type": "execute_result"
    }
   ],
   "source": [
    "#Creating a metric object\n",
    "m = Recall()\n",
    "#Calculate the recall value\n",
    "m.update_state(y_true, y_hat)\n",
    "\n",
    "# Return Recall() result\n",
    "m.result().numpy()"
   ]
  },
  {
   "cell_type": "code",
   "execution_count": 91,
   "id": "2e2c5037",
   "metadata": {},
   "outputs": [
    {
     "data": {
      "text/plain": [
       "1.0"
      ]
     },
     "execution_count": 91,
     "metadata": {},
     "output_type": "execute_result"
    }
   ],
   "source": [
    "#Creating a metric object\n",
    "m = Precision()\n",
    "#Calculate the precision value\n",
    "m.update_state(y_true, y_hat)\n",
    "\n",
    "# Return Precision() result\n",
    "m.result().numpy()"
   ]
  },
  {
   "cell_type": "markdown",
   "id": "e888db58",
   "metadata": {},
   "source": [
    "## 6.4 Lee's Results"
   ]
  },
  {
   "cell_type": "code",
   "execution_count": 96,
   "id": "777ee679",
   "metadata": {
    "scrolled": true
   },
   "outputs": [
    {
     "data": {
      "text/plain": [
       "<matplotlib.image.AxesImage at 0x7fcdb70fca90>"
      ]
     },
     "execution_count": 96,
     "metadata": {},
     "output_type": "execute_result"
    },
    {
     "data": {
      "image/png": "[encoded data removed]",
      "text/plain": [
       "<Figure size 1296x576 with 2 Axes>"
      ]
     },
     "metadata": {
      "needs_background": "light"
     },
     "output_type": "display_data"
    }
   ],
   "source": [
    "#Compare the results with the arrays in section 2.2\n",
    "\n",
    "#setting image/plot size\n",
    "plt.figure(figsize=(18,8))\n",
    "#Setting first subplot\n",
    "plt.subplot(1,2,1)\n",
    "plt.imshow(test_input[0])\n",
    "plt.subplot(1,2,2)\n",
    "plt.imshow(test_val[0])"
   ]
  },
  {
   "cell_type": "code",
   "execution_count": 95,
   "id": "b72b5414",
   "metadata": {},
   "outputs": [
    {
     "data": {
      "text/plain": [
       "<matplotlib.image.AxesImage at 0x7fcdb80ea280>"
      ]
     },
     "execution_count": 95,
     "metadata": {},
     "output_type": "execute_result"
    },
    {
     "data": {
      "image/png": "[encoded data removed]",
      "text/plain": [
       "<Figure size 1296x576 with 2 Axes>"
      ]
     },
     "metadata": {
      "needs_background": "light"
     },
     "output_type": "display_data"
    }
   ],
   "source": [
    "plt.figure(figsize=(18,8))\n",
    "plt.subplot(1,2,1)\n",
    "plt.imshow(test_input[3])\n",
    "plt.subplot(1,2,2)\n",
    "plt.imshow(test_val[3])"
   ]
  },
  {
   "cell_type": "markdown",
   "id": "f26aaf41",
   "metadata": {},
   "source": [
    "## 7. Save Model"
   ]
  },
  {
   "cell_type": "code",
   "execution_count": null,
   "id": "1219f19e",
   "metadata": {},
   "outputs": [],
   "source": []
  },
  {
   "cell_type": "markdown",
   "id": "545b6abc",
   "metadata": {},
   "source": [
    "## 8. Real Time Test"
   ]
  },
  {
   "cell_type": "markdown",
   "id": "5652ffb8",
   "metadata": {},
   "source": [
    "## 8.1 Verification Function"
   ]
  },
  {
   "cell_type": "markdown",
   "id": "dd664ee3",
   "metadata": {},
   "source": [
    "## 8.2 OpenCV Real Time Verification"
   ]
  },
  {
   "cell_type": "code",
   "execution_count": null,
   "id": "e897a622",
   "metadata": {},
   "outputs": [],
   "source": []
  }
 ],
 "metadata": {
  "kernelspec": {
   "display_name": "Python 3 (ipykernel)",
   "language": "python",
   "name": "python3"
  },
  "language_info": {
   "codemirror_mode": {
    "name": "ipython",
    "version": 3
   },
   "file_extension": ".py",
   "mimetype": "text/x-python",
   "name": "python",
   "nbconvert_exporter": "python",
   "pygments_lexer": "ipython3",
   "version": "3.9.12"
  }
 },
 "nbformat": 4,
 "nbformat_minor": 5
}
